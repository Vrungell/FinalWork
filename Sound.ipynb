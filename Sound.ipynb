{
 "cells": [
  {
   "cell_type": "code",
   "execution_count": 302,
   "metadata": {},
   "outputs": [],
   "source": [
    "#import wave\n",
    "#import pydub\n",
    "import numpy as np\n",
    "import pandas as pd\n",
    "import librosa\n",
    "import os\n",
    "import matplotlib.pyplot as plt\n",
    "import keras\n",
    "from sklearn.svm import SVC\n",
    "from sklearn.metrics import accuracy_score\n",
    "from sklearn.model_selection import train_test_split\n",
    "from sklearn.linear_model import LogisticRegression\n",
    "from sklearn.ensemble import RandomForestClassifier"
   ]
  },
  {
   "cell_type": "code",
   "execution_count": null,
   "metadata": {},
   "outputs": [],
   "source": [
    "#!pip install pyaudio\n",
    "#!pip3 install librosa\n",
    "#!pip3 install numpy\n",
    "#!pip3 install ffmpeg\n",
    "#!pip3 install keras\n",
    "#!pip3 install tensorflow"
   ]
  },
  {
   "cell_type": "markdown",
   "metadata": {},
   "source": [
    "### Wave Trial"
   ]
  },
  {
   "cell_type": "code",
   "execution_count": null,
   "metadata": {},
   "outputs": [],
   "source": [
    "s = wave.open(\"1;Petukhov V;25;M;.wav\", \"rb\")\n",
    "(nchannels, sampwidth, framerate, nframes, comptype, compname) = s.getparams()\n",
    "content = s.readframes(nframes)\n",
    "types = {\n",
    "    1: np.int8,\n",
    "    2: np.int16,\n",
    "    4: np.int32,\n",
    "    8: np.int64,\n",
    "}\n",
    "samples = np.fromstring(content, dtype = types[sampwidth])\n",
    "for n in range(nchannels):\n",
    "    channel = samples[n::nchannels]\n",
    "duration = nframes / framerate \n",
    "w, h = 20000, 300\n",
    "DPI = 72\n",
    "peak = 256 ** sampwidth / 2\n",
    "k = nframes/w/32"
   ]
  },
  {
   "cell_type": "code",
   "execution_count": null,
   "metadata": {},
   "outputs": [],
   "source": [
    "plt.figure(1, figsize=(20,7), dpi=DPI)\n",
    "plt.plot(samples, \"g\")\n",
    "plt.show()"
   ]
  },
  {
   "cell_type": "code",
   "execution_count": null,
   "metadata": {},
   "outputs": [],
   "source": [
    "amplitude = 300; \n",
    "freq_Hz = 500; \n",
    "data = []\n",
    "n = 2000\n",
    "for i in range(n):\n",
    "    data.append(int(amplitude*100000000000* np.sin((2*np.pi*i*freq_Hz))/256)+123)\n",
    "test = wave.open(\"test.wav\",\"w\")\n",
    "\n",
    "test.setnframes(n)\n",
    "test.setnchannels(1)\n",
    "test.setsampwidth(4)\n",
    "test.setframerate(1)\n",
    "\n",
    "#for i in range(len(data)):\n",
    "#    data[i] = bytes(data[i])\n",
    "data = bytearray(data)\n",
    "test.writeframes(data)"
   ]
  },
  {
   "cell_type": "code",
   "execution_count": null,
   "metadata": {},
   "outputs": [],
   "source": []
  },
  {
   "cell_type": "markdown",
   "metadata": {},
   "source": [
    "### Librosa trial"
   ]
  },
  {
   "cell_type": "code",
   "execution_count": 250,
   "metadata": {},
   "outputs": [],
   "source": [
    "def splitting(name):\n",
    "    return [os.path.splitext(name)[1]],  os.path.splitext(name)[0].split(';')[:-1]"
   ]
  },
  {
   "cell_type": "code",
   "execution_count": 251,
   "metadata": {},
   "outputs": [],
   "source": [
    "#Каталог из которого будем брать файлы\n",
    "directory = './Voices/'\n",
    "#Получаем список файлов в переменную files\n",
    "files = os.listdir(directory) "
   ]
  },
  {
   "cell_type": "code",
   "execution_count": 252,
   "metadata": {},
   "outputs": [
    {
     "name": "stdout",
     "output_type": "stream",
     "text": [
      "110584\n",
      "110584\n",
      "110584\n",
      "110584\n",
      "110584\n",
      "110585\n",
      "110585\n",
      "110585\n",
      "110585\n",
      "110585\n",
      "110585\n",
      "110584\n",
      "110584\n",
      "110584\n",
      "110585\n",
      "110584\n",
      "110585\n",
      "110584\n",
      "110585\n",
      "110585\n",
      "110585\n",
      "110584\n",
      "110585\n",
      "110584\n",
      "110584\n",
      "110584\n",
      "110584\n",
      "110584\n",
      "110584\n",
      "110585\n",
      "110584\n",
      "110584\n",
      "110585\n",
      "110584\n",
      "110585\n",
      "110584\n",
      "110585\n",
      "110584\n",
      "110584\n",
      "110585\n",
      "110584\n",
      "110585\n",
      "110584\n",
      "110584\n",
      "110585\n",
      "110584\n",
      "110584\n",
      "110585\n",
      "110584\n",
      "110584\n",
      "110584\n",
      "110584\n",
      "110584\n",
      "110585\n",
      "110584\n",
      "110585\n",
      "110584\n",
      "110584\n",
      "110585\n",
      "110584\n",
      "110584\n",
      "110584\n",
      "110584\n",
      "110584\n",
      "110584\n",
      "110584\n",
      "110584\n",
      "110584\n",
      "110584\n",
      "110584\n",
      "110584\n",
      "110584\n",
      "110584\n",
      "110584\n",
      "110585\n",
      "110584\n",
      "110584\n",
      "110584\n",
      "110585\n",
      "110585\n",
      "110585\n",
      "110584\n",
      "110585\n",
      "110585\n",
      "110584\n",
      "110584\n",
      "110584\n",
      "110584\n",
      "110585\n",
      "110585\n",
      "110584\n",
      "110585\n",
      "110584\n",
      "110584\n",
      "110584\n",
      "110584\n",
      "110584\n",
      "110584\n",
      "110584\n",
      "110584\n",
      "110585\n",
      "110585\n",
      "110585\n",
      "110584\n",
      "110585\n",
      "110584\n",
      "110584\n",
      "110584\n",
      "110585\n",
      "110584\n"
     ]
    }
   ],
   "source": [
    "lst = []\n",
    "for i in range(len(files)):\n",
    "    if files[i][0]=='1' or files[i][0]=='2':\n",
    "        y, sr = librosa.load(directory+files[i])\n",
    "        extension, name = splitting(files[i])\n",
    "        interval = (len(y)-110584)//2\n",
    "        print(len(y)-interval*2)\n",
    "        for j in range(10):\n",
    "            constant = 110584//10\n",
    "            lst.append(name+extension+[y[interval+constant*j:interval+constant*(j+1)]]+[sr])"
   ]
  },
  {
   "cell_type": "code",
   "execution_count": 253,
   "metadata": {},
   "outputs": [
    {
     "name": "stdout",
     "output_type": "stream",
     "text": [
      "1100\n",
      "11058\n",
      "11058\n",
      "11058\n",
      "11058\n",
      "11058\n"
     ]
    }
   ],
   "source": [
    "print(len(lst))\n",
    "print(len(lst[1][5]))\n",
    "print(len(lst[10][5]))\n",
    "print(len(lst[1000][5]))\n",
    "print(len(lst[20][5]))\n",
    "print(len(lst[500][5]))"
   ]
  },
  {
   "cell_type": "code",
   "execution_count": 254,
   "metadata": {},
   "outputs": [
    {
     "data": {
      "text/html": [
       "<div>\n",
       "<style scoped>\n",
       "    .dataframe tbody tr th:only-of-type {\n",
       "        vertical-align: middle;\n",
       "    }\n",
       "\n",
       "    .dataframe tbody tr th {\n",
       "        vertical-align: top;\n",
       "    }\n",
       "\n",
       "    .dataframe thead th {\n",
       "        text-align: right;\n",
       "    }\n",
       "</style>\n",
       "<table border=\"1\" class=\"dataframe\">\n",
       "  <thead>\n",
       "    <tr style=\"text-align: right;\">\n",
       "      <th></th>\n",
       "      <th>Num</th>\n",
       "      <th>Name</th>\n",
       "      <th>Age</th>\n",
       "      <th>Gender</th>\n",
       "      <th>Ext</th>\n",
       "      <th>Audio</th>\n",
       "      <th>Sr</th>\n",
       "    </tr>\n",
       "  </thead>\n",
       "  <tbody>\n",
       "    <tr>\n",
       "      <th>0</th>\n",
       "      <td>2</td>\n",
       "      <td>Kupriyanov K</td>\n",
       "      <td>20</td>\n",
       "      <td>M</td>\n",
       "      <td>.wav</td>\n",
       "      <td>[0.004811491, 0.005607869, 0.00039207924, -0.0...</td>\n",
       "      <td>22050</td>\n",
       "    </tr>\n",
       "    <tr>\n",
       "      <th>1</th>\n",
       "      <td>2</td>\n",
       "      <td>Kupriyanov K</td>\n",
       "      <td>20</td>\n",
       "      <td>M</td>\n",
       "      <td>.wav</td>\n",
       "      <td>[-0.000522882, -0.0007269805, -0.0009985598, -...</td>\n",
       "      <td>22050</td>\n",
       "    </tr>\n",
       "    <tr>\n",
       "      <th>2</th>\n",
       "      <td>2</td>\n",
       "      <td>Kupriyanov K</td>\n",
       "      <td>20</td>\n",
       "      <td>M</td>\n",
       "      <td>.wav</td>\n",
       "      <td>[0.0052018664, 0.0052809045, 0.005386425, 0.00...</td>\n",
       "      <td>22050</td>\n",
       "    </tr>\n",
       "    <tr>\n",
       "      <th>3</th>\n",
       "      <td>2</td>\n",
       "      <td>Kupriyanov K</td>\n",
       "      <td>20</td>\n",
       "      <td>M</td>\n",
       "      <td>.wav</td>\n",
       "      <td>[-0.0022265846, -0.0009779317, -0.0017107826, ...</td>\n",
       "      <td>22050</td>\n",
       "    </tr>\n",
       "    <tr>\n",
       "      <th>4</th>\n",
       "      <td>2</td>\n",
       "      <td>Kupriyanov K</td>\n",
       "      <td>20</td>\n",
       "      <td>M</td>\n",
       "      <td>.wav</td>\n",
       "      <td>[-0.007638506, 0.0033009544, 0.00832715, 0.000...</td>\n",
       "      <td>22050</td>\n",
       "    </tr>\n",
       "  </tbody>\n",
       "</table>\n",
       "</div>"
      ],
      "text/plain": [
       "  Num          Name Age Gender   Ext  \\\n",
       "0   2  Kupriyanov K  20      M  .wav   \n",
       "1   2  Kupriyanov K  20      M  .wav   \n",
       "2   2  Kupriyanov K  20      M  .wav   \n",
       "3   2  Kupriyanov K  20      M  .wav   \n",
       "4   2  Kupriyanov K  20      M  .wav   \n",
       "\n",
       "                                               Audio     Sr  \n",
       "0  [0.004811491, 0.005607869, 0.00039207924, -0.0...  22050  \n",
       "1  [-0.000522882, -0.0007269805, -0.0009985598, -...  22050  \n",
       "2  [0.0052018664, 0.0052809045, 0.005386425, 0.00...  22050  \n",
       "3  [-0.0022265846, -0.0009779317, -0.0017107826, ...  22050  \n",
       "4  [-0.007638506, 0.0033009544, 0.00832715, 0.000...  22050  "
      ]
     },
     "execution_count": 254,
     "metadata": {},
     "output_type": "execute_result"
    }
   ],
   "source": [
    "data = pd.DataFrame(lst, columns=['Num', 'Name', 'Age', 'Gender','Ext','Audio','Sr'])\n",
    "data.head()"
   ]
  },
  {
   "cell_type": "code",
   "execution_count": 255,
   "metadata": {},
   "outputs": [],
   "source": [
    "data.Name = data.Name.astype('category')\n",
    "data.Name = data.Name.cat.rename_categories([i for i in range(data.Name.nunique())])"
   ]
  },
  {
   "cell_type": "code",
   "execution_count": 379,
   "metadata": {},
   "outputs": [],
   "source": [
    "list_of_mfccs = []\n",
    "for i in range(len(data)):\n",
    "    mfcc = librosa.feature.mfcc(data.Audio.iloc[i], data.Sr.iloc[i])\n",
    "    list_of_mfccs.append(mfcc)\n",
    "data['mfcc'] = list_of_mfccs"
   ]
  },
  {
   "cell_type": "code",
   "execution_count": 377,
   "metadata": {},
   "outputs": [],
   "source": [
    "list_of_ffts = []\n",
    "for elem in data.Audio:\n",
    "    d = np.abs(librosa.stft(elem, n_fft = 1024))\n",
    "    list_of_ffts.append(d) \n",
    "data['fft'] = list_of_ffts"
   ]
  },
  {
   "cell_type": "code",
   "execution_count": 381,
   "metadata": {},
   "outputs": [],
   "source": [
    "list_of_rms = []\n",
    "for elem in data.Audio:\n",
    "    rms = librosa.feature.rmse(elem)\n",
    "    list_of_rms.append(rms)\n",
    "data['rms'] = list_of_rms"
   ]
  },
  {
   "cell_type": "code",
   "execution_count": 386,
   "metadata": {},
   "outputs": [],
   "source": [
    "contrasts = []\n",
    "for i in range(len(data)):\n",
    "    contrast = librosa.feature.spectral_contrast(S=data.fft.iloc[i], sr=data.Sr.iloc[i])\n",
    "    contrasts.append(contrast)\n",
    "data['contrast'] = contrasts"
   ]
  },
  {
   "cell_type": "code",
   "execution_count": 382,
   "metadata": {},
   "outputs": [
    {
     "data": {
      "text/html": [
       "<div>\n",
       "<style scoped>\n",
       "    .dataframe tbody tr th:only-of-type {\n",
       "        vertical-align: middle;\n",
       "    }\n",
       "\n",
       "    .dataframe tbody tr th {\n",
       "        vertical-align: top;\n",
       "    }\n",
       "\n",
       "    .dataframe thead th {\n",
       "        text-align: right;\n",
       "    }\n",
       "</style>\n",
       "<table border=\"1\" class=\"dataframe\">\n",
       "  <thead>\n",
       "    <tr style=\"text-align: right;\">\n",
       "      <th></th>\n",
       "      <th>Num</th>\n",
       "      <th>Name</th>\n",
       "      <th>Age</th>\n",
       "      <th>Gender</th>\n",
       "      <th>Ext</th>\n",
       "      <th>Audio</th>\n",
       "      <th>Sr</th>\n",
       "      <th>fft</th>\n",
       "      <th>mfcc</th>\n",
       "      <th>rms</th>\n",
       "    </tr>\n",
       "  </thead>\n",
       "  <tbody>\n",
       "    <tr>\n",
       "      <th>0</th>\n",
       "      <td>2</td>\n",
       "      <td>28</td>\n",
       "      <td>20</td>\n",
       "      <td>M</td>\n",
       "      <td>.wav</td>\n",
       "      <td>[0.004811491, 0.005607869, 0.00039207924, -0.0...</td>\n",
       "      <td>22050</td>\n",
       "      <td>[[0.008559212, 0.19821203, 0.39636698, 0.17321...</td>\n",
       "      <td>[[-392.60904471196284, -420.74703399901244, -4...</td>\n",
       "      <td>[[0.0032237044, 0.0031156135, 0.0057458566, 0....</td>\n",
       "    </tr>\n",
       "    <tr>\n",
       "      <th>1</th>\n",
       "      <td>2</td>\n",
       "      <td>28</td>\n",
       "      <td>20</td>\n",
       "      <td>M</td>\n",
       "      <td>.wav</td>\n",
       "      <td>[-0.000522882, -0.0007269805, -0.0009985598, -...</td>\n",
       "      <td>22050</td>\n",
       "      <td>[[0.21886599, 0.15453674, 0.100143924, 0.12747...</td>\n",
       "      <td>[[-582.9669128712184, -496.9997666440283, -430...</td>\n",
       "      <td>[[0.002081032, 0.0047898716, 0.007908231, 0.00...</td>\n",
       "    </tr>\n",
       "    <tr>\n",
       "      <th>2</th>\n",
       "      <td>2</td>\n",
       "      <td>28</td>\n",
       "      <td>20</td>\n",
       "      <td>M</td>\n",
       "      <td>.wav</td>\n",
       "      <td>[0.0052018664, 0.0052809045, 0.005386425, 0.00...</td>\n",
       "      <td>22050</td>\n",
       "      <td>[[0.025064165, 0.059207693, 0.11918354, 0.0598...</td>\n",
       "      <td>[[-470.5997279027319, -468.4096942575848, -494...</td>\n",
       "      <td>[[0.007283517, 0.006809681, 0.0066736103, 0.00...</td>\n",
       "    </tr>\n",
       "    <tr>\n",
       "      <th>3</th>\n",
       "      <td>2</td>\n",
       "      <td>28</td>\n",
       "      <td>20</td>\n",
       "      <td>M</td>\n",
       "      <td>.wav</td>\n",
       "      <td>[-0.0022265846, -0.0009779317, -0.0017107826, ...</td>\n",
       "      <td>22050</td>\n",
       "      <td>[[0.26673716, 0.2506916, 0.24540073, 0.3054897...</td>\n",
       "      <td>[[-427.69209013367464, -415.1758321984228, -42...</td>\n",
       "      <td>[[0.01095216, 0.010759305, 0.012502214, 0.0138...</td>\n",
       "    </tr>\n",
       "    <tr>\n",
       "      <th>4</th>\n",
       "      <td>2</td>\n",
       "      <td>28</td>\n",
       "      <td>20</td>\n",
       "      <td>M</td>\n",
       "      <td>.wav</td>\n",
       "      <td>[-0.007638506, 0.0033009544, 0.00832715, 0.000...</td>\n",
       "      <td>22050</td>\n",
       "      <td>[[0.18701445, 0.28751963, 0.3799873, 0.3511352...</td>\n",
       "      <td>[[-457.09772306219605, -466.00725013257824, -4...</td>\n",
       "      <td>[[0.009292727, 0.00826182, 0.006643449, 0.0044...</td>\n",
       "    </tr>\n",
       "  </tbody>\n",
       "</table>\n",
       "</div>"
      ],
      "text/plain": [
       "  Num Name Age Gender   Ext  \\\n",
       "0   2   28  20      M  .wav   \n",
       "1   2   28  20      M  .wav   \n",
       "2   2   28  20      M  .wav   \n",
       "3   2   28  20      M  .wav   \n",
       "4   2   28  20      M  .wav   \n",
       "\n",
       "                                               Audio     Sr  \\\n",
       "0  [0.004811491, 0.005607869, 0.00039207924, -0.0...  22050   \n",
       "1  [-0.000522882, -0.0007269805, -0.0009985598, -...  22050   \n",
       "2  [0.0052018664, 0.0052809045, 0.005386425, 0.00...  22050   \n",
       "3  [-0.0022265846, -0.0009779317, -0.0017107826, ...  22050   \n",
       "4  [-0.007638506, 0.0033009544, 0.00832715, 0.000...  22050   \n",
       "\n",
       "                                                 fft  \\\n",
       "0  [[0.008559212, 0.19821203, 0.39636698, 0.17321...   \n",
       "1  [[0.21886599, 0.15453674, 0.100143924, 0.12747...   \n",
       "2  [[0.025064165, 0.059207693, 0.11918354, 0.0598...   \n",
       "3  [[0.26673716, 0.2506916, 0.24540073, 0.3054897...   \n",
       "4  [[0.18701445, 0.28751963, 0.3799873, 0.3511352...   \n",
       "\n",
       "                                                mfcc  \\\n",
       "0  [[-392.60904471196284, -420.74703399901244, -4...   \n",
       "1  [[-582.9669128712184, -496.9997666440283, -430...   \n",
       "2  [[-470.5997279027319, -468.4096942575848, -494...   \n",
       "3  [[-427.69209013367464, -415.1758321984228, -42...   \n",
       "4  [[-457.09772306219605, -466.00725013257824, -4...   \n",
       "\n",
       "                                                 rms  \n",
       "0  [[0.0032237044, 0.0031156135, 0.0057458566, 0....  \n",
       "1  [[0.002081032, 0.0047898716, 0.007908231, 0.00...  \n",
       "2  [[0.007283517, 0.006809681, 0.0066736103, 0.00...  \n",
       "3  [[0.01095216, 0.010759305, 0.012502214, 0.0138...  \n",
       "4  [[0.009292727, 0.00826182, 0.006643449, 0.0044...  "
      ]
     },
     "execution_count": 382,
     "metadata": {},
     "output_type": "execute_result"
    }
   ],
   "source": [
    "data.head()"
   ]
  },
  {
   "cell_type": "code",
   "execution_count": 256,
   "metadata": {},
   "outputs": [],
   "source": [
    "#data.Gender = (df.Gender.values > 0).astype(np.uint8)"
   ]
  },
  {
   "cell_type": "code",
   "execution_count": 387,
   "metadata": {},
   "outputs": [],
   "source": [
    "data_hayam = data[data['Num'] != '2']"
   ]
  },
  {
   "cell_type": "code",
   "execution_count": 388,
   "metadata": {},
   "outputs": [
    {
     "data": {
      "text/html": [
       "<div>\n",
       "<style scoped>\n",
       "    .dataframe tbody tr th:only-of-type {\n",
       "        vertical-align: middle;\n",
       "    }\n",
       "\n",
       "    .dataframe tbody tr th {\n",
       "        vertical-align: top;\n",
       "    }\n",
       "\n",
       "    .dataframe thead th {\n",
       "        text-align: right;\n",
       "    }\n",
       "</style>\n",
       "<table border=\"1\" class=\"dataframe\">\n",
       "  <thead>\n",
       "    <tr style=\"text-align: right;\">\n",
       "      <th></th>\n",
       "      <th>Num</th>\n",
       "      <th>Name</th>\n",
       "      <th>Age</th>\n",
       "      <th>Gender</th>\n",
       "      <th>Ext</th>\n",
       "      <th>Audio</th>\n",
       "      <th>Sr</th>\n",
       "      <th>fft</th>\n",
       "      <th>mfcc</th>\n",
       "      <th>rms</th>\n",
       "      <th>contrast</th>\n",
       "    </tr>\n",
       "  </thead>\n",
       "  <tbody>\n",
       "    <tr>\n",
       "      <th>40</th>\n",
       "      <td>1</td>\n",
       "      <td>43</td>\n",
       "      <td>39</td>\n",
       "      <td>M</td>\n",
       "      <td>.wav</td>\n",
       "      <td>[-0.0045401547, -0.0048513385, -0.004792961, -...</td>\n",
       "      <td>22050</td>\n",
       "      <td>[[1.4174968, 0.11539252, 0.69051325, 0.2283472...</td>\n",
       "      <td>[[-475.1810561875608, -454.1726019057168, -441...</td>\n",
       "      <td>[[0.009071489, 0.009567424, 0.010832742, 0.012...</td>\n",
       "      <td>[[14.788129464962642, 10.61355615500672, 6.091...</td>\n",
       "    </tr>\n",
       "    <tr>\n",
       "      <th>41</th>\n",
       "      <td>1</td>\n",
       "      <td>43</td>\n",
       "      <td>39</td>\n",
       "      <td>M</td>\n",
       "      <td>.wav</td>\n",
       "      <td>[0.009330407, 0.017106444, 0.023515461, 0.0304...</td>\n",
       "      <td>22050</td>\n",
       "      <td>[[3.5195684, 1.7047472, 0.6129912, 0.5455634, ...</td>\n",
       "      <td>[[-341.4915287926109, -379.5716713687056, -467...</td>\n",
       "      <td>[[0.026420018, 0.025998585, 0.019436995, 0.008...</td>\n",
       "      <td>[[8.598162346849827, 9.483578215944494, 13.486...</td>\n",
       "    </tr>\n",
       "    <tr>\n",
       "      <th>42</th>\n",
       "      <td>1</td>\n",
       "      <td>43</td>\n",
       "      <td>39</td>\n",
       "      <td>M</td>\n",
       "      <td>.wav</td>\n",
       "      <td>[0.017703088, 0.016833756, 0.016947305, 0.0157...</td>\n",
       "      <td>22050</td>\n",
       "      <td>[[0.43781066, 0.46806946, 0.43156293, 0.694807...</td>\n",
       "      <td>[[-434.28852632255894, -453.62069190385296, -4...</td>\n",
       "      <td>[[0.0111753745, 0.010956885, 0.008738491, 0.00...</td>\n",
       "      <td>[[21.05849872677106, 8.305093226519833, 7.5902...</td>\n",
       "    </tr>\n",
       "    <tr>\n",
       "      <th>43</th>\n",
       "      <td>1</td>\n",
       "      <td>43</td>\n",
       "      <td>39</td>\n",
       "      <td>M</td>\n",
       "      <td>.wav</td>\n",
       "      <td>[-0.00021349241, 0.00037832817, 0.0006367343, ...</td>\n",
       "      <td>22050</td>\n",
       "      <td>[[3.064468, 1.1777807, 0.2540468, 0.8278696, 0...</td>\n",
       "      <td>[[-321.5987738799005, -323.13387181901504, -36...</td>\n",
       "      <td>[[0.02108208, 0.020712152, 0.015445695, 0.0066...</td>\n",
       "      <td>[[27.68438790040198, 7.743812600138406, 10.179...</td>\n",
       "    </tr>\n",
       "    <tr>\n",
       "      <th>44</th>\n",
       "      <td>1</td>\n",
       "      <td>43</td>\n",
       "      <td>39</td>\n",
       "      <td>M</td>\n",
       "      <td>.wav</td>\n",
       "      <td>[-0.024480619, -0.025467385, -0.025523111, -0....</td>\n",
       "      <td>22050</td>\n",
       "      <td>[[1.1600274, 0.8318858, 0.18485467, 0.1259521,...</td>\n",
       "      <td>[[-383.88844399909004, -379.81767380730855, -3...</td>\n",
       "      <td>[[0.029184557, 0.029250154, 0.026800081, 0.024...</td>\n",
       "      <td>[[9.424001550094172, 5.1869929855896295, 12.73...</td>\n",
       "    </tr>\n",
       "  </tbody>\n",
       "</table>\n",
       "</div>"
      ],
      "text/plain": [
       "   Num Name Age Gender   Ext  \\\n",
       "40   1   43  39      M  .wav   \n",
       "41   1   43  39      M  .wav   \n",
       "42   1   43  39      M  .wav   \n",
       "43   1   43  39      M  .wav   \n",
       "44   1   43  39      M  .wav   \n",
       "\n",
       "                                                Audio     Sr  \\\n",
       "40  [-0.0045401547, -0.0048513385, -0.004792961, -...  22050   \n",
       "41  [0.009330407, 0.017106444, 0.023515461, 0.0304...  22050   \n",
       "42  [0.017703088, 0.016833756, 0.016947305, 0.0157...  22050   \n",
       "43  [-0.00021349241, 0.00037832817, 0.0006367343, ...  22050   \n",
       "44  [-0.024480619, -0.025467385, -0.025523111, -0....  22050   \n",
       "\n",
       "                                                  fft  \\\n",
       "40  [[1.4174968, 0.11539252, 0.69051325, 0.2283472...   \n",
       "41  [[3.5195684, 1.7047472, 0.6129912, 0.5455634, ...   \n",
       "42  [[0.43781066, 0.46806946, 0.43156293, 0.694807...   \n",
       "43  [[3.064468, 1.1777807, 0.2540468, 0.8278696, 0...   \n",
       "44  [[1.1600274, 0.8318858, 0.18485467, 0.1259521,...   \n",
       "\n",
       "                                                 mfcc  \\\n",
       "40  [[-475.1810561875608, -454.1726019057168, -441...   \n",
       "41  [[-341.4915287926109, -379.5716713687056, -467...   \n",
       "42  [[-434.28852632255894, -453.62069190385296, -4...   \n",
       "43  [[-321.5987738799005, -323.13387181901504, -36...   \n",
       "44  [[-383.88844399909004, -379.81767380730855, -3...   \n",
       "\n",
       "                                                  rms  \\\n",
       "40  [[0.009071489, 0.009567424, 0.010832742, 0.012...   \n",
       "41  [[0.026420018, 0.025998585, 0.019436995, 0.008...   \n",
       "42  [[0.0111753745, 0.010956885, 0.008738491, 0.00...   \n",
       "43  [[0.02108208, 0.020712152, 0.015445695, 0.0066...   \n",
       "44  [[0.029184557, 0.029250154, 0.026800081, 0.024...   \n",
       "\n",
       "                                             contrast  \n",
       "40  [[14.788129464962642, 10.61355615500672, 6.091...  \n",
       "41  [[8.598162346849827, 9.483578215944494, 13.486...  \n",
       "42  [[21.05849872677106, 8.305093226519833, 7.5902...  \n",
       "43  [[27.68438790040198, 7.743812600138406, 10.179...  \n",
       "44  [[9.424001550094172, 5.1869929855896295, 12.73...  "
      ]
     },
     "execution_count": 388,
     "metadata": {},
     "output_type": "execute_result"
    }
   ],
   "source": [
    "data_hayam.head()"
   ]
  },
  {
   "cell_type": "code",
   "execution_count": 389,
   "metadata": {},
   "outputs": [
    {
     "data": {
      "text/html": [
       "<div>\n",
       "<style scoped>\n",
       "    .dataframe tbody tr th:only-of-type {\n",
       "        vertical-align: middle;\n",
       "    }\n",
       "\n",
       "    .dataframe tbody tr th {\n",
       "        vertical-align: top;\n",
       "    }\n",
       "\n",
       "    .dataframe thead th {\n",
       "        text-align: right;\n",
       "    }\n",
       "</style>\n",
       "<table border=\"1\" class=\"dataframe\">\n",
       "  <thead>\n",
       "    <tr style=\"text-align: right;\">\n",
       "      <th></th>\n",
       "      <th>Num</th>\n",
       "      <th>Name</th>\n",
       "      <th>Age</th>\n",
       "      <th>Gender</th>\n",
       "      <th>Ext</th>\n",
       "      <th>Audio</th>\n",
       "      <th>Sr</th>\n",
       "      <th>fft</th>\n",
       "      <th>mfcc</th>\n",
       "      <th>rms</th>\n",
       "      <th>contrast</th>\n",
       "    </tr>\n",
       "  </thead>\n",
       "  <tbody>\n",
       "    <tr>\n",
       "      <th>0</th>\n",
       "      <td>2</td>\n",
       "      <td>28</td>\n",
       "      <td>20</td>\n",
       "      <td>M</td>\n",
       "      <td>.wav</td>\n",
       "      <td>[0.004811491, 0.005607869, 0.00039207924, -0.0...</td>\n",
       "      <td>22050</td>\n",
       "      <td>[[0.008559212, 0.19821203, 0.39636698, 0.17321...</td>\n",
       "      <td>[[-392.60904471196284, -420.74703399901244, -4...</td>\n",
       "      <td>[[0.0032237044, 0.0031156135, 0.0057458566, 0....</td>\n",
       "      <td>[[14.853753822270157, 5.553359092960635, 11.17...</td>\n",
       "    </tr>\n",
       "    <tr>\n",
       "      <th>1</th>\n",
       "      <td>2</td>\n",
       "      <td>28</td>\n",
       "      <td>20</td>\n",
       "      <td>M</td>\n",
       "      <td>.wav</td>\n",
       "      <td>[-0.000522882, -0.0007269805, -0.0009985598, -...</td>\n",
       "      <td>22050</td>\n",
       "      <td>[[0.21886599, 0.15453674, 0.100143924, 0.12747...</td>\n",
       "      <td>[[-582.9669128712184, -496.9997666440283, -430...</td>\n",
       "      <td>[[0.002081032, 0.0047898716, 0.007908231, 0.00...</td>\n",
       "      <td>[[12.011717169857842, 8.457228673149533, 12.06...</td>\n",
       "    </tr>\n",
       "    <tr>\n",
       "      <th>2</th>\n",
       "      <td>2</td>\n",
       "      <td>28</td>\n",
       "      <td>20</td>\n",
       "      <td>M</td>\n",
       "      <td>.wav</td>\n",
       "      <td>[0.0052018664, 0.0052809045, 0.005386425, 0.00...</td>\n",
       "      <td>22050</td>\n",
       "      <td>[[0.025064165, 0.059207693, 0.11918354, 0.0598...</td>\n",
       "      <td>[[-470.5997279027319, -468.4096942575848, -494...</td>\n",
       "      <td>[[0.007283517, 0.006809681, 0.0066736103, 0.00...</td>\n",
       "      <td>[[17.419322443422303, 17.362592671266533, 17.7...</td>\n",
       "    </tr>\n",
       "    <tr>\n",
       "      <th>3</th>\n",
       "      <td>2</td>\n",
       "      <td>28</td>\n",
       "      <td>20</td>\n",
       "      <td>M</td>\n",
       "      <td>.wav</td>\n",
       "      <td>[-0.0022265846, -0.0009779317, -0.0017107826, ...</td>\n",
       "      <td>22050</td>\n",
       "      <td>[[0.26673716, 0.2506916, 0.24540073, 0.3054897...</td>\n",
       "      <td>[[-427.69209013367464, -415.1758321984228, -42...</td>\n",
       "      <td>[[0.01095216, 0.010759305, 0.012502214, 0.0138...</td>\n",
       "      <td>[[19.876196873884485, 4.860169441196324, 15.02...</td>\n",
       "    </tr>\n",
       "    <tr>\n",
       "      <th>4</th>\n",
       "      <td>2</td>\n",
       "      <td>28</td>\n",
       "      <td>20</td>\n",
       "      <td>M</td>\n",
       "      <td>.wav</td>\n",
       "      <td>[-0.007638506, 0.0033009544, 0.00832715, 0.000...</td>\n",
       "      <td>22050</td>\n",
       "      <td>[[0.18701445, 0.28751963, 0.3799873, 0.3511352...</td>\n",
       "      <td>[[-457.09772306219605, -466.00725013257824, -4...</td>\n",
       "      <td>[[0.009292727, 0.00826182, 0.006643449, 0.0044...</td>\n",
       "      <td>[[31.86509560932439, 9.974674727650031, 14.708...</td>\n",
       "    </tr>\n",
       "  </tbody>\n",
       "</table>\n",
       "</div>"
      ],
      "text/plain": [
       "  Num Name Age Gender   Ext  \\\n",
       "0   2   28  20      M  .wav   \n",
       "1   2   28  20      M  .wav   \n",
       "2   2   28  20      M  .wav   \n",
       "3   2   28  20      M  .wav   \n",
       "4   2   28  20      M  .wav   \n",
       "\n",
       "                                               Audio     Sr  \\\n",
       "0  [0.004811491, 0.005607869, 0.00039207924, -0.0...  22050   \n",
       "1  [-0.000522882, -0.0007269805, -0.0009985598, -...  22050   \n",
       "2  [0.0052018664, 0.0052809045, 0.005386425, 0.00...  22050   \n",
       "3  [-0.0022265846, -0.0009779317, -0.0017107826, ...  22050   \n",
       "4  [-0.007638506, 0.0033009544, 0.00832715, 0.000...  22050   \n",
       "\n",
       "                                                 fft  \\\n",
       "0  [[0.008559212, 0.19821203, 0.39636698, 0.17321...   \n",
       "1  [[0.21886599, 0.15453674, 0.100143924, 0.12747...   \n",
       "2  [[0.025064165, 0.059207693, 0.11918354, 0.0598...   \n",
       "3  [[0.26673716, 0.2506916, 0.24540073, 0.3054897...   \n",
       "4  [[0.18701445, 0.28751963, 0.3799873, 0.3511352...   \n",
       "\n",
       "                                                mfcc  \\\n",
       "0  [[-392.60904471196284, -420.74703399901244, -4...   \n",
       "1  [[-582.9669128712184, -496.9997666440283, -430...   \n",
       "2  [[-470.5997279027319, -468.4096942575848, -494...   \n",
       "3  [[-427.69209013367464, -415.1758321984228, -42...   \n",
       "4  [[-457.09772306219605, -466.00725013257824, -4...   \n",
       "\n",
       "                                                 rms  \\\n",
       "0  [[0.0032237044, 0.0031156135, 0.0057458566, 0....   \n",
       "1  [[0.002081032, 0.0047898716, 0.007908231, 0.00...   \n",
       "2  [[0.007283517, 0.006809681, 0.0066736103, 0.00...   \n",
       "3  [[0.01095216, 0.010759305, 0.012502214, 0.0138...   \n",
       "4  [[0.009292727, 0.00826182, 0.006643449, 0.0044...   \n",
       "\n",
       "                                            contrast  \n",
       "0  [[14.853753822270157, 5.553359092960635, 11.17...  \n",
       "1  [[12.011717169857842, 8.457228673149533, 12.06...  \n",
       "2  [[17.419322443422303, 17.362592671266533, 17.7...  \n",
       "3  [[19.876196873884485, 4.860169441196324, 15.02...  \n",
       "4  [[31.86509560932439, 9.974674727650031, 14.708...  "
      ]
     },
     "execution_count": 389,
     "metadata": {},
     "output_type": "execute_result"
    }
   ],
   "source": [
    "data_turtle = data[data['Num'] == '2']\n",
    "data_turtle.head()"
   ]
  },
  {
   "cell_type": "code",
   "execution_count": 390,
   "metadata": {},
   "outputs": [],
   "source": [
    "target = data.Name\n",
    "target_hayam = data_hayam.Name\n",
    "target_turtle = data_turtle.Name"
   ]
  },
  {
   "cell_type": "code",
   "execution_count": 393,
   "metadata": {},
   "outputs": [],
   "source": [
    "def making_train(data, columns):\n",
    "    train = pd.DataFrame()\n",
    "    for elem in columns:\n",
    "        temp = []\n",
    "        for i in range(len(data)):\n",
    "            temp.append(np.array(data[elem].iloc[i]).ravel())\n",
    "    train[elem]=temp\n",
    "    return train\n",
    " #   flattened_ffts = []\n",
    " #   for i in range(len(list_of_ffts)):\n",
    " #       flattened_ffts.append(np.array(list_of_ffts[i]).ravel())\n",
    " #   flattened_mfccs = []\n",
    " #   for i in range(len(list_of_mfccs)):\n",
    " #       flattened_mfccs.append(np.array(list_of_mfccs[i]).ravel())\n",
    " #   return list_of_ffts, flattened_ffts, list_of_mfccs, flattened_mfccs"
   ]
  },
  {
   "cell_type": "code",
   "execution_count": 394,
   "metadata": {},
   "outputs": [],
   "source": [
    "train_turtle = making_train(data_turtle, ['contrast'])"
   ]
  },
  {
   "cell_type": "code",
   "execution_count": 395,
   "metadata": {},
   "outputs": [
    {
     "data": {
      "text/html": [
       "<div>\n",
       "<style scoped>\n",
       "    .dataframe tbody tr th:only-of-type {\n",
       "        vertical-align: middle;\n",
       "    }\n",
       "\n",
       "    .dataframe tbody tr th {\n",
       "        vertical-align: top;\n",
       "    }\n",
       "\n",
       "    .dataframe thead th {\n",
       "        text-align: right;\n",
       "    }\n",
       "</style>\n",
       "<table border=\"1\" class=\"dataframe\">\n",
       "  <thead>\n",
       "    <tr style=\"text-align: right;\">\n",
       "      <th></th>\n",
       "      <th>contrast</th>\n",
       "    </tr>\n",
       "  </thead>\n",
       "  <tbody>\n",
       "    <tr>\n",
       "      <th>0</th>\n",
       "      <td>[14.853753822270157, 5.553359092960635, 11.170...</td>\n",
       "    </tr>\n",
       "    <tr>\n",
       "      <th>1</th>\n",
       "      <td>[12.011717169857842, 8.457228673149533, 12.063...</td>\n",
       "    </tr>\n",
       "    <tr>\n",
       "      <th>2</th>\n",
       "      <td>[17.419322443422303, 17.362592671266533, 17.73...</td>\n",
       "    </tr>\n",
       "    <tr>\n",
       "      <th>3</th>\n",
       "      <td>[19.876196873884485, 4.860169441196324, 15.027...</td>\n",
       "    </tr>\n",
       "    <tr>\n",
       "      <th>4</th>\n",
       "      <td>[31.86509560932439, 9.974674727650031, 14.7088...</td>\n",
       "    </tr>\n",
       "  </tbody>\n",
       "</table>\n",
       "</div>"
      ],
      "text/plain": [
       "                                            contrast\n",
       "0  [14.853753822270157, 5.553359092960635, 11.170...\n",
       "1  [12.011717169857842, 8.457228673149533, 12.063...\n",
       "2  [17.419322443422303, 17.362592671266533, 17.73...\n",
       "3  [19.876196873884485, 4.860169441196324, 15.027...\n",
       "4  [31.86509560932439, 9.974674727650031, 14.7088..."
      ]
     },
     "execution_count": 395,
     "metadata": {},
     "output_type": "execute_result"
    }
   ],
   "source": [
    "train_turtle.head()"
   ]
  },
  {
   "cell_type": "code",
   "execution_count": 304,
   "metadata": {},
   "outputs": [],
   "source": [
    "#print(np.mean([len(elem) for elem in data.Audio]))\n",
    "#print(len(data.Audio[1]))"
   ]
  },
  {
   "cell_type": "code",
   "execution_count": 305,
   "metadata": {},
   "outputs": [],
   "source": [
    "#list_of_ffts = []\n",
    "#for elem in data.Audio:\n",
    "#    d = np.abs(librosa.stft(elem))\n",
    "#    list_of_ffts.append(d)\n",
    "#mfcc = librosa.feature.mfcc(data.Audio[1], data.Sr[1])"
   ]
  },
  {
   "cell_type": "code",
   "execution_count": 313,
   "metadata": {},
   "outputs": [
    {
     "name": "stdout",
     "output_type": "stream",
     "text": [
      "550\n"
     ]
    }
   ],
   "source": [
    "#flattened_ffts_turtle, flattened_mfccs_turtle = making_features(data_turtle)"
   ]
  },
  {
   "cell_type": "code",
   "execution_count": 293,
   "metadata": {},
   "outputs": [],
   "source": [
    "#import itertools"
   ]
  },
  {
   "cell_type": "code",
   "execution_count": 341,
   "metadata": {},
   "outputs": [],
   "source": [
    "#train_lst = []\n",
    "#for i in range(len(flattened_ffts_turtle)):\n",
    "#    train_lst.append(list(itertools.chain(flattened_ffts_turtle[i], flattened_mfccs_turtle[i])))"
   ]
  },
  {
   "cell_type": "code",
   "execution_count": 343,
   "metadata": {},
   "outputs": [],
   "source": [
    "#column_names = ['fft_'+str(i) for i in range(len(flattened_ffts_turtle[1]))]+ ['mfcc_'+str(i) for i in range(len(flattened_mfccs_turtle[1]))]"
   ]
  },
  {
   "cell_type": "code",
   "execution_count": 344,
   "metadata": {},
   "outputs": [],
   "source": [
    "#new_train_df = pd.DataFrame(train_lst, columns=column_names)"
   ]
  },
  {
   "cell_type": "code",
   "execution_count": null,
   "metadata": {},
   "outputs": [],
   "source": []
  },
  {
   "cell_type": "code",
   "execution_count": null,
   "metadata": {},
   "outputs": [],
   "source": []
  },
  {
   "cell_type": "code",
   "execution_count": null,
   "metadata": {},
   "outputs": [],
   "source": []
  },
  {
   "cell_type": "code",
   "execution_count": 186,
   "metadata": {},
   "outputs": [],
   "source": [
    "from keras.layers import Convolution2D, MaxPooling2D, Conv2D\n",
    "from keras.layers import Dense, Dropout, Activation, Flatten\n",
    "import tensorflow as tf"
   ]
  },
  {
   "cell_type": "code",
   "execution_count": 187,
   "metadata": {},
   "outputs": [],
   "source": [
    "model = keras.models.Sequential()\n",
    "input_shape = (1025,22,1)\n",
    "model.add(Conv2D(512, kernel_size=(5,5), input_shape=input_shape))\n",
    "model.add(MaxPooling2D(pool_size=(2, 2)))\n",
    "model.add(Conv2D(256, kernel_size=(5,5), input_shape=input_shape))\n",
    "model.add(MaxPooling2D(pool_size=(2, 2)))\n",
    "model.add(Flatten()) # Flattening the 2D arrays for fully connected layers\n",
    "model.add(Dense(500, activation=tf.nn.relu))\n",
    "model.add(Dropout(0.2))\n",
    "model.add(Dense(55,activation=tf.nn.softmax)) "
   ]
  },
  {
   "cell_type": "code",
   "execution_count": 159,
   "metadata": {},
   "outputs": [],
   "source": [
    "model.compile(optimizer='adam', loss='sparse_categorical_crossentropy', metrics=['accuracy']) "
   ]
  },
  {
   "cell_type": "code",
   "execution_count": null,
   "metadata": {},
   "outputs": [],
   "source": []
  },
  {
   "cell_type": "code",
   "execution_count": null,
   "metadata": {},
   "outputs": [],
   "source": []
  },
  {
   "cell_type": "code",
   "execution_count": 296,
   "metadata": {},
   "outputs": [],
   "source": [
    "X_train, X_test, y_train, y_test = train_test_split(flattened_ffts, target, test_size=0.1, shuffle=True)"
   ]
  },
  {
   "cell_type": "code",
   "execution_count": 297,
   "metadata": {},
   "outputs": [
    {
     "data": {
      "text/plain": [
       "(22550,)"
      ]
     },
     "execution_count": 297,
     "metadata": {},
     "output_type": "execute_result"
    }
   ],
   "source": [
    "X_train[5].shape"
   ]
  },
  {
   "cell_type": "code",
   "execution_count": 166,
   "metadata": {},
   "outputs": [
    {
     "ename": "ValueError",
     "evalue": "Error when checking model input: the list of Numpy arrays that you are passing to your model is not the size the model expected. Expected to see 1 array(s), but instead got the following list of 990 arrays: [array([[2.3632175e-01, 1.1798878e-01, 1.2653836e-02, ..., 9.9964269e-02,\n        9.6054658e-02, 3.7929958e-01],\n       [3.0732772e-01, 1.3116026e-01, 3.4217160e-02, ..., 6.0841173e-01,\n        4.4395...",
     "output_type": "error",
     "traceback": [
      "\u001b[0;31m---------------------------------------------------------------------------\u001b[0m",
      "\u001b[0;31mValueError\u001b[0m                                Traceback (most recent call last)",
      "\u001b[0;32m<ipython-input-166-20380eab0574>\u001b[0m in \u001b[0;36m<module>\u001b[0;34m\u001b[0m\n\u001b[0;32m----> 1\u001b[0;31m \u001b[0mmodel\u001b[0m\u001b[0;34m.\u001b[0m\u001b[0mfit\u001b[0m\u001b[0;34m(\u001b[0m\u001b[0mx\u001b[0m\u001b[0;34m=\u001b[0m\u001b[0mX_train\u001b[0m\u001b[0;34m,\u001b[0m\u001b[0my\u001b[0m\u001b[0;34m=\u001b[0m\u001b[0my_train\u001b[0m\u001b[0;34m,\u001b[0m \u001b[0mepochs\u001b[0m\u001b[0;34m=\u001b[0m\u001b[0;36m10\u001b[0m\u001b[0;34m,\u001b[0m \u001b[0mbatch_size\u001b[0m\u001b[0;34m=\u001b[0m\u001b[0;36m10\u001b[0m\u001b[0;34m)\u001b[0m\u001b[0;34m\u001b[0m\u001b[0;34m\u001b[0m\u001b[0m\n\u001b[0m",
      "\u001b[0;32m~/.local/lib/python3.6/site-packages/keras/engine/training.py\u001b[0m in \u001b[0;36mfit\u001b[0;34m(self, x, y, batch_size, epochs, verbose, callbacks, validation_split, validation_data, shuffle, class_weight, sample_weight, initial_epoch, steps_per_epoch, validation_steps, **kwargs)\u001b[0m\n\u001b[1;32m    950\u001b[0m             \u001b[0msample_weight\u001b[0m\u001b[0;34m=\u001b[0m\u001b[0msample_weight\u001b[0m\u001b[0;34m,\u001b[0m\u001b[0;34m\u001b[0m\u001b[0;34m\u001b[0m\u001b[0m\n\u001b[1;32m    951\u001b[0m             \u001b[0mclass_weight\u001b[0m\u001b[0;34m=\u001b[0m\u001b[0mclass_weight\u001b[0m\u001b[0;34m,\u001b[0m\u001b[0;34m\u001b[0m\u001b[0;34m\u001b[0m\u001b[0m\n\u001b[0;32m--> 952\u001b[0;31m             batch_size=batch_size)\n\u001b[0m\u001b[1;32m    953\u001b[0m         \u001b[0;31m# Prepare validation data.\u001b[0m\u001b[0;34m\u001b[0m\u001b[0;34m\u001b[0m\u001b[0;34m\u001b[0m\u001b[0m\n\u001b[1;32m    954\u001b[0m         \u001b[0mdo_validation\u001b[0m \u001b[0;34m=\u001b[0m \u001b[0;32mFalse\u001b[0m\u001b[0;34m\u001b[0m\u001b[0;34m\u001b[0m\u001b[0m\n",
      "\u001b[0;32m~/.local/lib/python3.6/site-packages/keras/engine/training.py\u001b[0m in \u001b[0;36m_standardize_user_data\u001b[0;34m(self, x, y, sample_weight, class_weight, check_array_lengths, batch_size)\u001b[0m\n\u001b[1;32m    749\u001b[0m             \u001b[0mfeed_input_shapes\u001b[0m\u001b[0;34m,\u001b[0m\u001b[0;34m\u001b[0m\u001b[0;34m\u001b[0m\u001b[0m\n\u001b[1;32m    750\u001b[0m             \u001b[0mcheck_batch_axis\u001b[0m\u001b[0;34m=\u001b[0m\u001b[0;32mFalse\u001b[0m\u001b[0;34m,\u001b[0m  \u001b[0;31m# Don't enforce the batch size.\u001b[0m\u001b[0;34m\u001b[0m\u001b[0;34m\u001b[0m\u001b[0m\n\u001b[0;32m--> 751\u001b[0;31m             exception_prefix='input')\n\u001b[0m\u001b[1;32m    752\u001b[0m \u001b[0;34m\u001b[0m\u001b[0m\n\u001b[1;32m    753\u001b[0m         \u001b[0;32mif\u001b[0m \u001b[0my\u001b[0m \u001b[0;32mis\u001b[0m \u001b[0;32mnot\u001b[0m \u001b[0;32mNone\u001b[0m\u001b[0;34m:\u001b[0m\u001b[0;34m\u001b[0m\u001b[0;34m\u001b[0m\u001b[0m\n",
      "\u001b[0;32m~/.local/lib/python3.6/site-packages/keras/engine/training_utils.py\u001b[0m in \u001b[0;36mstandardize_input_data\u001b[0;34m(data, names, shapes, check_batch_axis, exception_prefix)\u001b[0m\n\u001b[1;32m    100\u001b[0m                 \u001b[0;34m'Expected to see '\u001b[0m \u001b[0;34m+\u001b[0m \u001b[0mstr\u001b[0m\u001b[0;34m(\u001b[0m\u001b[0mlen\u001b[0m\u001b[0;34m(\u001b[0m\u001b[0mnames\u001b[0m\u001b[0;34m)\u001b[0m\u001b[0;34m)\u001b[0m \u001b[0;34m+\u001b[0m \u001b[0;34m' array(s), '\u001b[0m\u001b[0;34m\u001b[0m\u001b[0;34m\u001b[0m\u001b[0m\n\u001b[1;32m    101\u001b[0m                 \u001b[0;34m'but instead got the following list of '\u001b[0m \u001b[0;34m+\u001b[0m\u001b[0;34m\u001b[0m\u001b[0;34m\u001b[0m\u001b[0m\n\u001b[0;32m--> 102\u001b[0;31m                 str(len(data)) + ' arrays: ' + str(data)[:200] + '...')\n\u001b[0m\u001b[1;32m    103\u001b[0m         \u001b[0;32melif\u001b[0m \u001b[0mlen\u001b[0m\u001b[0;34m(\u001b[0m\u001b[0mnames\u001b[0m\u001b[0;34m)\u001b[0m \u001b[0;34m>\u001b[0m \u001b[0;36m1\u001b[0m\u001b[0;34m:\u001b[0m\u001b[0;34m\u001b[0m\u001b[0;34m\u001b[0m\u001b[0m\n\u001b[1;32m    104\u001b[0m             raise ValueError(\n",
      "\u001b[0;31mValueError\u001b[0m: Error when checking model input: the list of Numpy arrays that you are passing to your model is not the size the model expected. Expected to see 1 array(s), but instead got the following list of 990 arrays: [array([[2.3632175e-01, 1.1798878e-01, 1.2653836e-02, ..., 9.9964269e-02,\n        9.6054658e-02, 3.7929958e-01],\n       [3.0732772e-01, 1.3116026e-01, 3.4217160e-02, ..., 6.0841173e-01,\n        4.4395..."
     ]
    }
   ],
   "source": [
    "model.fit(x=X_train,y=y_train, epochs=10, batch_size=10) "
   ]
  },
  {
   "cell_type": "code",
   "execution_count": null,
   "metadata": {},
   "outputs": [],
   "source": []
  },
  {
   "cell_type": "code",
   "execution_count": null,
   "metadata": {},
   "outputs": [],
   "source": []
  },
  {
   "cell_type": "code",
   "execution_count": null,
   "metadata": {},
   "outputs": [],
   "source": []
  },
  {
   "cell_type": "code",
   "execution_count": null,
   "metadata": {},
   "outputs": [],
   "source": []
  },
  {
   "cell_type": "code",
   "execution_count": 243,
   "metadata": {},
   "outputs": [],
   "source": [
    "#X_train_hayam, X_test_hayam, y_train_hayam, y_test_hayam = train_test_split(\n",
    "#    flattened_ffts_hayam, target_hayam, test_size=0.1, shuffle=True)"
   ]
  },
  {
   "cell_type": "code",
   "execution_count": 398,
   "metadata": {},
   "outputs": [],
   "source": [
    "X_train_turtle, X_test_turtle, y_train_turtle, y_test_turtle = train_test_split(\n",
    "    train_turtle.values, target_turtle, test_size=0.2, shuffle=True)"
   ]
  },
  {
   "cell_type": "code",
   "execution_count": null,
   "metadata": {},
   "outputs": [],
   "source": []
  },
  {
   "cell_type": "code",
   "execution_count": null,
   "metadata": {},
   "outputs": [],
   "source": []
  },
  {
   "cell_type": "code",
   "execution_count": 362,
   "metadata": {},
   "outputs": [],
   "source": [
    "#clf = SVC(kernel='linear')\n",
    "#clf.fit(X_train_hayam, y_train_hayam)\n",
    "#pred_hayam = clf.predict(X_test_hayam)\n",
    "#print(accuracy_score(pred_hayam, y_test_hayam))"
   ]
  },
  {
   "cell_type": "code",
   "execution_count": 399,
   "metadata": {},
   "outputs": [
    {
     "ename": "ValueError",
     "evalue": "setting an array element with a sequence.",
     "output_type": "error",
     "traceback": [
      "\u001b[0;31m---------------------------------------------------------------------------\u001b[0m",
      "\u001b[0;31mValueError\u001b[0m                                Traceback (most recent call last)",
      "\u001b[0;32m<ipython-input-399-739fc2865249>\u001b[0m in \u001b[0;36m<module>\u001b[0;34m\u001b[0m\n\u001b[1;32m      1\u001b[0m \u001b[0mclf\u001b[0m \u001b[0;34m=\u001b[0m \u001b[0mSVC\u001b[0m\u001b[0;34m(\u001b[0m\u001b[0mkernel\u001b[0m\u001b[0;34m=\u001b[0m\u001b[0;34m'linear'\u001b[0m\u001b[0;34m)\u001b[0m\u001b[0;34m\u001b[0m\u001b[0;34m\u001b[0m\u001b[0m\n\u001b[0;32m----> 2\u001b[0;31m \u001b[0mclf\u001b[0m\u001b[0;34m.\u001b[0m\u001b[0mfit\u001b[0m\u001b[0;34m(\u001b[0m\u001b[0mX_train_turtle\u001b[0m\u001b[0;34m,\u001b[0m \u001b[0my_train_turtle\u001b[0m\u001b[0;34m)\u001b[0m\u001b[0;34m\u001b[0m\u001b[0;34m\u001b[0m\u001b[0m\n\u001b[0m\u001b[1;32m      3\u001b[0m \u001b[0mpred_turtle\u001b[0m \u001b[0;34m=\u001b[0m \u001b[0mclf\u001b[0m\u001b[0;34m.\u001b[0m\u001b[0mpredict\u001b[0m\u001b[0;34m(\u001b[0m\u001b[0mX_test_turtle\u001b[0m\u001b[0;34m)\u001b[0m\u001b[0;34m\u001b[0m\u001b[0;34m\u001b[0m\u001b[0m\n\u001b[1;32m      4\u001b[0m \u001b[0mprint\u001b[0m\u001b[0;34m(\u001b[0m\u001b[0maccuracy_score\u001b[0m\u001b[0;34m(\u001b[0m\u001b[0mpred_turtle\u001b[0m\u001b[0;34m,\u001b[0m \u001b[0my_test_turtle\u001b[0m\u001b[0;34m)\u001b[0m\u001b[0;34m)\u001b[0m\u001b[0;34m\u001b[0m\u001b[0;34m\u001b[0m\u001b[0m\n",
      "\u001b[0;32m~/.local/lib/python3.6/site-packages/sklearn/svm/base.py\u001b[0m in \u001b[0;36mfit\u001b[0;34m(self, X, y, sample_weight)\u001b[0m\n\u001b[1;32m    147\u001b[0m         X, y = check_X_y(X, y, dtype=np.float64,\n\u001b[1;32m    148\u001b[0m                          \u001b[0morder\u001b[0m\u001b[0;34m=\u001b[0m\u001b[0;34m'C'\u001b[0m\u001b[0;34m,\u001b[0m \u001b[0maccept_sparse\u001b[0m\u001b[0;34m=\u001b[0m\u001b[0;34m'csr'\u001b[0m\u001b[0;34m,\u001b[0m\u001b[0;34m\u001b[0m\u001b[0;34m\u001b[0m\u001b[0m\n\u001b[0;32m--> 149\u001b[0;31m                          accept_large_sparse=False)\n\u001b[0m\u001b[1;32m    150\u001b[0m         \u001b[0my\u001b[0m \u001b[0;34m=\u001b[0m \u001b[0mself\u001b[0m\u001b[0;34m.\u001b[0m\u001b[0m_validate_targets\u001b[0m\u001b[0;34m(\u001b[0m\u001b[0my\u001b[0m\u001b[0;34m)\u001b[0m\u001b[0;34m\u001b[0m\u001b[0;34m\u001b[0m\u001b[0m\n\u001b[1;32m    151\u001b[0m \u001b[0;34m\u001b[0m\u001b[0m\n",
      "\u001b[0;32m~/.local/lib/python3.6/site-packages/sklearn/utils/validation.py\u001b[0m in \u001b[0;36mcheck_X_y\u001b[0;34m(X, y, accept_sparse, accept_large_sparse, dtype, order, copy, force_all_finite, ensure_2d, allow_nd, multi_output, ensure_min_samples, ensure_min_features, y_numeric, warn_on_dtype, estimator)\u001b[0m\n\u001b[1;32m    754\u001b[0m                     \u001b[0mensure_min_features\u001b[0m\u001b[0;34m=\u001b[0m\u001b[0mensure_min_features\u001b[0m\u001b[0;34m,\u001b[0m\u001b[0;34m\u001b[0m\u001b[0;34m\u001b[0m\u001b[0m\n\u001b[1;32m    755\u001b[0m                     \u001b[0mwarn_on_dtype\u001b[0m\u001b[0;34m=\u001b[0m\u001b[0mwarn_on_dtype\u001b[0m\u001b[0;34m,\u001b[0m\u001b[0;34m\u001b[0m\u001b[0;34m\u001b[0m\u001b[0m\n\u001b[0;32m--> 756\u001b[0;31m                     estimator=estimator)\n\u001b[0m\u001b[1;32m    757\u001b[0m     \u001b[0;32mif\u001b[0m \u001b[0mmulti_output\u001b[0m\u001b[0;34m:\u001b[0m\u001b[0;34m\u001b[0m\u001b[0;34m\u001b[0m\u001b[0m\n\u001b[1;32m    758\u001b[0m         y = check_array(y, 'csr', force_all_finite=True, ensure_2d=False,\n",
      "\u001b[0;32m~/.local/lib/python3.6/site-packages/sklearn/utils/validation.py\u001b[0m in \u001b[0;36mcheck_array\u001b[0;34m(array, accept_sparse, accept_large_sparse, dtype, order, copy, force_all_finite, ensure_2d, allow_nd, ensure_min_samples, ensure_min_features, warn_on_dtype, estimator)\u001b[0m\n\u001b[1;32m    525\u001b[0m             \u001b[0;32mtry\u001b[0m\u001b[0;34m:\u001b[0m\u001b[0;34m\u001b[0m\u001b[0;34m\u001b[0m\u001b[0m\n\u001b[1;32m    526\u001b[0m                 \u001b[0mwarnings\u001b[0m\u001b[0;34m.\u001b[0m\u001b[0msimplefilter\u001b[0m\u001b[0;34m(\u001b[0m\u001b[0;34m'error'\u001b[0m\u001b[0;34m,\u001b[0m \u001b[0mComplexWarning\u001b[0m\u001b[0;34m)\u001b[0m\u001b[0;34m\u001b[0m\u001b[0;34m\u001b[0m\u001b[0m\n\u001b[0;32m--> 527\u001b[0;31m                 \u001b[0marray\u001b[0m \u001b[0;34m=\u001b[0m \u001b[0mnp\u001b[0m\u001b[0;34m.\u001b[0m\u001b[0masarray\u001b[0m\u001b[0;34m(\u001b[0m\u001b[0marray\u001b[0m\u001b[0;34m,\u001b[0m \u001b[0mdtype\u001b[0m\u001b[0;34m=\u001b[0m\u001b[0mdtype\u001b[0m\u001b[0;34m,\u001b[0m \u001b[0morder\u001b[0m\u001b[0;34m=\u001b[0m\u001b[0morder\u001b[0m\u001b[0;34m)\u001b[0m\u001b[0;34m\u001b[0m\u001b[0;34m\u001b[0m\u001b[0m\n\u001b[0m\u001b[1;32m    528\u001b[0m             \u001b[0;32mexcept\u001b[0m \u001b[0mComplexWarning\u001b[0m\u001b[0;34m:\u001b[0m\u001b[0;34m\u001b[0m\u001b[0;34m\u001b[0m\u001b[0m\n\u001b[1;32m    529\u001b[0m                 raise ValueError(\"Complex data not supported\\n\"\n",
      "\u001b[0;32m~/.local/lib/python3.6/site-packages/numpy/core/numeric.py\u001b[0m in \u001b[0;36masarray\u001b[0;34m(a, dtype, order)\u001b[0m\n\u001b[1;32m    536\u001b[0m \u001b[0;34m\u001b[0m\u001b[0m\n\u001b[1;32m    537\u001b[0m     \"\"\"\n\u001b[0;32m--> 538\u001b[0;31m     \u001b[0;32mreturn\u001b[0m \u001b[0marray\u001b[0m\u001b[0;34m(\u001b[0m\u001b[0ma\u001b[0m\u001b[0;34m,\u001b[0m \u001b[0mdtype\u001b[0m\u001b[0;34m,\u001b[0m \u001b[0mcopy\u001b[0m\u001b[0;34m=\u001b[0m\u001b[0;32mFalse\u001b[0m\u001b[0;34m,\u001b[0m \u001b[0morder\u001b[0m\u001b[0;34m=\u001b[0m\u001b[0morder\u001b[0m\u001b[0;34m)\u001b[0m\u001b[0;34m\u001b[0m\u001b[0;34m\u001b[0m\u001b[0m\n\u001b[0m\u001b[1;32m    539\u001b[0m \u001b[0;34m\u001b[0m\u001b[0m\n\u001b[1;32m    540\u001b[0m \u001b[0;34m\u001b[0m\u001b[0m\n",
      "\u001b[0;31mValueError\u001b[0m: setting an array element with a sequence."
     ]
    }
   ],
   "source": [
    "clf = SVC(kernel='linear')\n",
    "clf.fit(X_train_turtle, y_train_turtle)\n",
    "pred_turtle = clf.predict(X_test_turtle)\n",
    "print(accuracy_score(pred_turtle, y_test_turtle))"
   ]
  },
  {
   "cell_type": "code",
   "execution_count": 347,
   "metadata": {},
   "outputs": [
    {
     "name": "stdout",
     "output_type": "stream",
     "text": [
      "0.6090909090909091\n"
     ]
    }
   ],
   "source": [
    "clf = RandomForestClassifier(n_estimators=200)\n",
    "clf.fit(X_train_turtle, y_train_turtle)\n",
    "pred_turtle = clf.predict(X_test_turtle)\n",
    "print(accuracy_score(pred_turtle, y_test_turtle))"
   ]
  },
  {
   "cell_type": "code",
   "execution_count": 353,
   "metadata": {},
   "outputs": [],
   "source": [
    "features_list = sorted(list(zip(clf.feature_importances_, column_names)), reverse=True)"
   ]
  },
  {
   "cell_type": "code",
   "execution_count": 359,
   "metadata": {},
   "outputs": [],
   "source": [
    "best_data_columns = pd.DataFrame()\n",
    "i=0\n",
    "while (features_list[i][0]>0.00001):\n",
    "    best_data_columns[features_list[i][1]] = new_train_df[features_list[i][1]]\n",
    "    i+=1"
   ]
  },
  {
   "cell_type": "code",
   "execution_count": 360,
   "metadata": {},
   "outputs": [
    {
     "data": {
      "text/plain": [
       "(550, 15153)"
      ]
     },
     "execution_count": 360,
     "metadata": {},
     "output_type": "execute_result"
    }
   ],
   "source": [
    "best_data_columns.shape"
   ]
  },
  {
   "cell_type": "code",
   "execution_count": null,
   "metadata": {},
   "outputs": [],
   "source": []
  },
  {
   "cell_type": "code",
   "execution_count": null,
   "metadata": {},
   "outputs": [],
   "source": []
  },
  {
   "cell_type": "code",
   "execution_count": null,
   "metadata": {},
   "outputs": [],
   "source": []
  },
  {
   "cell_type": "code",
   "execution_count": null,
   "metadata": {},
   "outputs": [],
   "source": []
  },
  {
   "cell_type": "code",
   "execution_count": 300,
   "metadata": {},
   "outputs": [
    {
     "name": "stderr",
     "output_type": "stream",
     "text": [
      "/home/kapitan/.local/lib/python3.6/site-packages/sklearn/linear_model/logistic.py:433: FutureWarning: Default solver will be changed to 'lbfgs' in 0.22. Specify a solver to silence this warning.\n",
      "  FutureWarning)\n",
      "/home/kapitan/.local/lib/python3.6/site-packages/sklearn/linear_model/logistic.py:460: FutureWarning: Default multi_class will be changed to 'auto' in 0.22. Specify the multi_class option to silence this warning.\n",
      "  \"this warning.\", FutureWarning)\n"
     ]
    },
    {
     "data": {
      "text/plain": [
       "LogisticRegression(C=1.0, class_weight=None, dual=False, fit_intercept=True,\n",
       "          intercept_scaling=1, max_iter=100, multi_class='warn',\n",
       "          n_jobs=None, penalty='l2', random_state=None, solver='warn',\n",
       "          tol=0.0001, verbose=0, warm_start=False)"
      ]
     },
     "execution_count": 300,
     "metadata": {},
     "output_type": "execute_result"
    }
   ],
   "source": [
    "clf = LogisticRegression()\n",
    "clf.fit(X_train_turtle, y_train_turtle)"
   ]
  },
  {
   "cell_type": "code",
   "execution_count": 301,
   "metadata": {},
   "outputs": [
    {
     "name": "stdout",
     "output_type": "stream",
     "text": [
      "0.21818181818181817\n"
     ]
    }
   ],
   "source": [
    "pred_turtle = clf.predict(X_test_turtle)\n",
    "print(accuracy_score(pred_turtle, y_test_turtle))"
   ]
  },
  {
   "cell_type": "code",
   "execution_count": null,
   "metadata": {},
   "outputs": [],
   "source": []
  },
  {
   "cell_type": "code",
   "execution_count": null,
   "metadata": {},
   "outputs": [],
   "source": []
  },
  {
   "cell_type": "code",
   "execution_count": null,
   "metadata": {},
   "outputs": [],
   "source": []
  },
  {
   "cell_type": "code",
   "execution_count": null,
   "metadata": {},
   "outputs": [],
   "source": [
    "\n",
    "#plt.figure(1, figsize=(20,7), dpi=DPI)\n",
    "#plt.plot(y, \"g\")\n",
    "#plt.show()\n",
    "#if it is necessary to make more samples\n",
    "#resampling_file = []\n",
    "#l = len(y)//40\n",
    "#for i in range(1,40):\n",
    "#    resampling_file.append(y[(i-1)*l:i*l])\n",
    "#print(len(resampling_file))"
   ]
  },
  {
   "cell_type": "code",
   "execution_count": null,
   "metadata": {},
   "outputs": [],
   "source": [
    "'''plt.figure(1, figsize=(20,15), dpi=DPI)\n",
    "D = []\n",
    "for i in range(len(resampling_file)-1):\n",
    "    d = np.abs(librosa.stft(resampling_file[i]))\n",
    "    plt.subplot(6, 7, i+1)\n",
    "    plt.plot(d, \"r\")\n",
    "    D.append(d)\n",
    "plt.show()'''"
   ]
  },
  {
   "cell_type": "code",
   "execution_count": null,
   "metadata": {},
   "outputs": [],
   "source": [
    "for i in D:\n",
    "    print(i.shape)"
   ]
  },
  {
   "cell_type": "code",
   "execution_count": null,
   "metadata": {},
   "outputs": [],
   "source": [
    "D.shape"
   ]
  },
  {
   "cell_type": "code",
   "execution_count": null,
   "metadata": {},
   "outputs": [],
   "source": []
  },
  {
   "cell_type": "code",
   "execution_count": null,
   "metadata": {},
   "outputs": [],
   "source": []
  },
  {
   "cell_type": "code",
   "execution_count": null,
   "metadata": {},
   "outputs": [],
   "source": []
  },
  {
   "cell_type": "code",
   "execution_count": null,
   "metadata": {},
   "outputs": [],
   "source": []
  },
  {
   "cell_type": "code",
   "execution_count": null,
   "metadata": {},
   "outputs": [],
   "source": [
    "# 3. Run the default beat tracker\n",
    "tempo, beat_frames = librosa.beat.beat_track(y=y, sr=sr)\n",
    "\n",
    "print('Estimated tempo: {:.2f} beats per minute'.format(tempo))\n",
    "\n",
    "# 4. Convert the frame indices of beat events into timestamps\n",
    "beat_times = librosa.frames_to_time(beat_frames, sr=sr)\n",
    "\n",
    "print('Saving output to beat_times.csv')\n",
    "librosa.output.times_csv('beat_times.csv', beat_times)"
   ]
  },
  {
   "cell_type": "code",
   "execution_count": null,
   "metadata": {},
   "outputs": [],
   "source": []
  },
  {
   "cell_type": "code",
   "execution_count": null,
   "metadata": {},
   "outputs": [],
   "source": []
  },
  {
   "cell_type": "code",
   "execution_count": null,
   "metadata": {},
   "outputs": [],
   "source": []
  },
  {
   "cell_type": "code",
   "execution_count": null,
   "metadata": {},
   "outputs": [],
   "source": []
  }
 ],
 "metadata": {
  "kernelspec": {
   "display_name": "Python 3",
   "language": "python",
   "name": "python3"
  },
  "language_info": {
   "codemirror_mode": {
    "name": "ipython",
    "version": 3
   },
   "file_extension": ".py",
   "mimetype": "text/x-python",
   "name": "python",
   "nbconvert_exporter": "python",
   "pygments_lexer": "ipython3",
   "version": "3.6.7"
  }
 },
 "nbformat": 4,
 "nbformat_minor": 2
}
