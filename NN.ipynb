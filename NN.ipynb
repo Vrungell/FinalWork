{
 "cells": [
  {
   "cell_type": "code",
   "execution_count": 79,
   "metadata": {},
   "outputs": [],
   "source": [
    "import wave\n",
    "#import pydub\n",
    "import numpy as np\n",
    "import pandas as pd\n",
    "import librosa\n",
    "import os\n",
    "import matplotlib.pyplot as plt\n",
    "#import keras\n",
    "from sklearn.svm import SVC\n",
    "from sklearn.metrics import accuracy_score\n",
    "from sklearn.model_selection import train_test_split\n",
    "from sklearn.linear_model import LogisticRegression\n",
    "from sklearn.ensemble import RandomForestClassifier"
   ]
  },
  {
   "cell_type": "code",
   "execution_count": 80,
   "metadata": {},
   "outputs": [],
   "source": [
    "def splitting(name):\n",
    "    return [os.path.splitext(name)[1]],  os.path.splitext(name)[0].split(';')[:-1]"
   ]
  },
  {
   "cell_type": "code",
   "execution_count": 81,
   "metadata": {},
   "outputs": [],
   "source": [
    "#Каталог из которого будем брать файлы\n",
    "directory = './Voices/'\n",
    "#Получаем список файлов в переменную files\n",
    "files = os.listdir(directory) "
   ]
  },
  {
   "cell_type": "code",
   "execution_count": 235,
   "metadata": {},
   "outputs": [
    {
     "name": "stdout",
     "output_type": "stream",
     "text": [
      "0 out of 110\n",
      "1 out of 110\n",
      "2 out of 110\n",
      "3 out of 110\n",
      "4 out of 110\n",
      "5 out of 110\n",
      "6 out of 110\n",
      "7 out of 110\n",
      "8 out of 110\n",
      "9 out of 110\n",
      "10 out of 110\n",
      "11 out of 110\n",
      "12 out of 110\n",
      "13 out of 110\n",
      "14 out of 110\n",
      "15 out of 110\n",
      "16 out of 110\n",
      "17 out of 110\n",
      "18 out of 110\n",
      "19 out of 110\n",
      "20 out of 110\n",
      "21 out of 110\n",
      "22 out of 110\n",
      "23 out of 110\n",
      "24 out of 110\n",
      "25 out of 110\n",
      "26 out of 110\n",
      "27 out of 110\n",
      "28 out of 110\n",
      "29 out of 110\n",
      "30 out of 110\n",
      "31 out of 110\n",
      "32 out of 110\n",
      "33 out of 110\n",
      "34 out of 110\n",
      "35 out of 110\n",
      "36 out of 110\n",
      "37 out of 110\n",
      "38 out of 110\n",
      "39 out of 110\n",
      "40 out of 110\n",
      "41 out of 110\n",
      "42 out of 110\n",
      "43 out of 110\n",
      "44 out of 110\n",
      "45 out of 110\n",
      "46 out of 110\n",
      "47 out of 110\n",
      "48 out of 110\n",
      "49 out of 110\n",
      "50 out of 110\n",
      "51 out of 110\n",
      "52 out of 110\n",
      "53 out of 110\n",
      "54 out of 110\n",
      "55 out of 110\n",
      "56 out of 110\n",
      "57 out of 110\n",
      "58 out of 110\n",
      "59 out of 110\n",
      "60 out of 110\n",
      "61 out of 110\n",
      "62 out of 110\n",
      "63 out of 110\n",
      "64 out of 110\n",
      "65 out of 110\n",
      "66 out of 110\n",
      "67 out of 110\n",
      "68 out of 110\n",
      "69 out of 110\n",
      "70 out of 110\n",
      "71 out of 110\n",
      "72 out of 110\n",
      "73 out of 110\n",
      "74 out of 110\n",
      "75 out of 110\n",
      "76 out of 110\n",
      "77 out of 110\n",
      "78 out of 110\n",
      "79 out of 110\n",
      "80 out of 110\n",
      "81 out of 110\n",
      "82 out of 110\n",
      "83 out of 110\n",
      "84 out of 110\n",
      "85 out of 110\n",
      "86 out of 110\n",
      "87 out of 110\n",
      "88 out of 110\n",
      "89 out of 110\n",
      "90 out of 110\n",
      "91 out of 110\n",
      "92 out of 110\n",
      "93 out of 110\n",
      "94 out of 110\n",
      "95 out of 110\n",
      "96 out of 110\n",
      "97 out of 110\n",
      "98 out of 110\n",
      "99 out of 110\n",
      "100 out of 110\n",
      "101 out of 110\n",
      "102 out of 110\n",
      "103 out of 110\n",
      "104 out of 110\n",
      "105 out of 110\n",
      "106 out of 110\n",
      "107 out of 110\n",
      "108 out of 110\n",
      "109 out of 110\n"
     ]
    }
   ],
   "source": [
    "#cut the middle values and make 10 audios from 1\n",
    "lst = []\n",
    "audio = []\n",
    "min_len = 110584\n",
    "constant = min_len // 20\n",
    "for i in range(len(files)):\n",
    "  #  print(files[i])\n",
    "    if files[i][0]=='1' or files[i][0]=='2':\n",
    "        y, sr = librosa.load(directory+files[i])\n",
    "        extension, name = splitting(files[i])\n",
    "        interval = (len(y) - min_len) // 2\n",
    "        for j in range(20):\n",
    "            \n",
    "            temp = []\n",
    "            for k in range(constant):\n",
    "                temp.append(y[interval+constant*j+k])\n",
    "#                 lst.append(name+extension+[y[interval+constant*j+k]]+[sr])\n",
    "#                 print(lst)\n",
    "            audio.append(np.array(temp))\n",
    "            lst.append(name + extension + temp + [sr])\n",
    "        print('{} out of {}'.format(i, len(files)))"
   ]
  },
  {
   "cell_type": "code",
   "execution_count": 236,
   "metadata": {},
   "outputs": [
    {
     "data": {
      "text/plain": [
       "(2200, 5529)"
      ]
     },
     "execution_count": 236,
     "metadata": {},
     "output_type": "execute_result"
    }
   ],
   "source": [
    "audio = np.array(audio)\n",
    "audio.shape"
   ]
  },
  {
   "cell_type": "code",
   "execution_count": 237,
   "metadata": {},
   "outputs": [
    {
     "data": {
      "text/html": [
       "<div>\n",
       "<style scoped>\n",
       "    .dataframe tbody tr th:only-of-type {\n",
       "        vertical-align: middle;\n",
       "    }\n",
       "\n",
       "    .dataframe tbody tr th {\n",
       "        vertical-align: top;\n",
       "    }\n",
       "\n",
       "    .dataframe thead th {\n",
       "        text-align: right;\n",
       "    }\n",
       "</style>\n",
       "<table border=\"1\" class=\"dataframe\">\n",
       "  <thead>\n",
       "    <tr style=\"text-align: right;\">\n",
       "      <th></th>\n",
       "      <th>Num</th>\n",
       "      <th>Name</th>\n",
       "      <th>Age</th>\n",
       "      <th>Gender</th>\n",
       "      <th>Ext</th>\n",
       "      <th>Audio_0</th>\n",
       "      <th>Audio_1</th>\n",
       "      <th>Audio_2</th>\n",
       "      <th>Audio_3</th>\n",
       "      <th>Audio_4</th>\n",
       "      <th>...</th>\n",
       "      <th>Audio_5520</th>\n",
       "      <th>Audio_5521</th>\n",
       "      <th>Audio_5522</th>\n",
       "      <th>Audio_5523</th>\n",
       "      <th>Audio_5524</th>\n",
       "      <th>Audio_5525</th>\n",
       "      <th>Audio_5526</th>\n",
       "      <th>Audio_5527</th>\n",
       "      <th>Audio_5528</th>\n",
       "      <th>Sr</th>\n",
       "    </tr>\n",
       "  </thead>\n",
       "  <tbody>\n",
       "    <tr>\n",
       "      <th>0</th>\n",
       "      <td>2</td>\n",
       "      <td>3</td>\n",
       "      <td>23</td>\n",
       "      <td>F</td>\n",
       "      <td>.wav</td>\n",
       "      <td>0.037744</td>\n",
       "      <td>0.042963</td>\n",
       "      <td>0.045602</td>\n",
       "      <td>0.048476</td>\n",
       "      <td>0.049683</td>\n",
       "      <td>...</td>\n",
       "      <td>-0.003041</td>\n",
       "      <td>0.006708</td>\n",
       "      <td>0.017953</td>\n",
       "      <td>0.017462</td>\n",
       "      <td>-0.002477</td>\n",
       "      <td>-0.020478</td>\n",
       "      <td>-0.015324</td>\n",
       "      <td>-0.008388</td>\n",
       "      <td>-0.000291</td>\n",
       "      <td>22050</td>\n",
       "    </tr>\n",
       "    <tr>\n",
       "      <th>1</th>\n",
       "      <td>2</td>\n",
       "      <td>3</td>\n",
       "      <td>23</td>\n",
       "      <td>F</td>\n",
       "      <td>.wav</td>\n",
       "      <td>0.009350</td>\n",
       "      <td>0.015799</td>\n",
       "      <td>0.005245</td>\n",
       "      <td>-0.014828</td>\n",
       "      <td>-0.019583</td>\n",
       "      <td>...</td>\n",
       "      <td>0.000911</td>\n",
       "      <td>0.000557</td>\n",
       "      <td>0.001369</td>\n",
       "      <td>0.001584</td>\n",
       "      <td>0.001286</td>\n",
       "      <td>0.000359</td>\n",
       "      <td>-0.000251</td>\n",
       "      <td>0.001169</td>\n",
       "      <td>-0.000582</td>\n",
       "      <td>22050</td>\n",
       "    </tr>\n",
       "    <tr>\n",
       "      <th>2</th>\n",
       "      <td>2</td>\n",
       "      <td>3</td>\n",
       "      <td>23</td>\n",
       "      <td>F</td>\n",
       "      <td>.wav</td>\n",
       "      <td>0.001462</td>\n",
       "      <td>0.002927</td>\n",
       "      <td>0.001584</td>\n",
       "      <td>0.001837</td>\n",
       "      <td>0.003543</td>\n",
       "      <td>...</td>\n",
       "      <td>0.000050</td>\n",
       "      <td>0.000428</td>\n",
       "      <td>0.000715</td>\n",
       "      <td>0.001001</td>\n",
       "      <td>0.000551</td>\n",
       "      <td>0.000111</td>\n",
       "      <td>-0.000679</td>\n",
       "      <td>-0.000291</td>\n",
       "      <td>0.000033</td>\n",
       "      <td>22050</td>\n",
       "    </tr>\n",
       "    <tr>\n",
       "      <th>3</th>\n",
       "      <td>2</td>\n",
       "      <td>3</td>\n",
       "      <td>23</td>\n",
       "      <td>F</td>\n",
       "      <td>.wav</td>\n",
       "      <td>0.000653</td>\n",
       "      <td>0.000990</td>\n",
       "      <td>0.000502</td>\n",
       "      <td>0.000289</td>\n",
       "      <td>0.000176</td>\n",
       "      <td>...</td>\n",
       "      <td>0.041023</td>\n",
       "      <td>0.039918</td>\n",
       "      <td>0.035112</td>\n",
       "      <td>0.024913</td>\n",
       "      <td>0.015266</td>\n",
       "      <td>0.004326</td>\n",
       "      <td>-0.006412</td>\n",
       "      <td>-0.009296</td>\n",
       "      <td>-0.008877</td>\n",
       "      <td>22050</td>\n",
       "    </tr>\n",
       "    <tr>\n",
       "      <th>4</th>\n",
       "      <td>2</td>\n",
       "      <td>3</td>\n",
       "      <td>23</td>\n",
       "      <td>F</td>\n",
       "      <td>.wav</td>\n",
       "      <td>-0.014228</td>\n",
       "      <td>-0.018208</td>\n",
       "      <td>-0.013448</td>\n",
       "      <td>-0.011329</td>\n",
       "      <td>-0.014752</td>\n",
       "      <td>...</td>\n",
       "      <td>-0.016211</td>\n",
       "      <td>-0.014956</td>\n",
       "      <td>-0.012936</td>\n",
       "      <td>-0.010687</td>\n",
       "      <td>-0.012107</td>\n",
       "      <td>-0.011594</td>\n",
       "      <td>-0.011450</td>\n",
       "      <td>-0.011019</td>\n",
       "      <td>-0.009027</td>\n",
       "      <td>22050</td>\n",
       "    </tr>\n",
       "  </tbody>\n",
       "</table>\n",
       "<p>5 rows × 5535 columns</p>\n",
       "</div>"
      ],
      "text/plain": [
       "  Num Name Age Gender   Ext   Audio_0   Audio_1   Audio_2   Audio_3   Audio_4  \\\n",
       "0   2    3  23      F  .wav  0.037744  0.042963  0.045602  0.048476  0.049683   \n",
       "1   2    3  23      F  .wav  0.009350  0.015799  0.005245 -0.014828 -0.019583   \n",
       "2   2    3  23      F  .wav  0.001462  0.002927  0.001584  0.001837  0.003543   \n",
       "3   2    3  23      F  .wav  0.000653  0.000990  0.000502  0.000289  0.000176   \n",
       "4   2    3  23      F  .wav -0.014228 -0.018208 -0.013448 -0.011329 -0.014752   \n",
       "\n",
       "   ...    Audio_5520  Audio_5521  Audio_5522  Audio_5523  Audio_5524  \\\n",
       "0  ...     -0.003041    0.006708    0.017953    0.017462   -0.002477   \n",
       "1  ...      0.000911    0.000557    0.001369    0.001584    0.001286   \n",
       "2  ...      0.000050    0.000428    0.000715    0.001001    0.000551   \n",
       "3  ...      0.041023    0.039918    0.035112    0.024913    0.015266   \n",
       "4  ...     -0.016211   -0.014956   -0.012936   -0.010687   -0.012107   \n",
       "\n",
       "   Audio_5525  Audio_5526  Audio_5527  Audio_5528     Sr  \n",
       "0   -0.020478   -0.015324   -0.008388   -0.000291  22050  \n",
       "1    0.000359   -0.000251    0.001169   -0.000582  22050  \n",
       "2    0.000111   -0.000679   -0.000291    0.000033  22050  \n",
       "3    0.004326   -0.006412   -0.009296   -0.008877  22050  \n",
       "4   -0.011594   -0.011450   -0.011019   -0.009027  22050  \n",
       "\n",
       "[5 rows x 5535 columns]"
      ]
     },
     "execution_count": 237,
     "metadata": {},
     "output_type": "execute_result"
    }
   ],
   "source": [
    "audios = ['Audio_{}'.format(i) for i in range(constant)]\n",
    "col_names = ['Num', 'Name', 'Age', 'Gender', 'Ext'] + audios + ['Sr']\n",
    "data = pd.DataFrame(lst, columns=col_names)\n",
    "data.Name = data.Name.astype('category')\n",
    "data.Name = data.Name.cat.rename_categories([i for i in range(data.Name.nunique())])\n",
    "data.head()"
   ]
  },
  {
   "cell_type": "code",
   "execution_count": 306,
   "metadata": {},
   "outputs": [
    {
     "data": {
      "text/plain": [
       "2200"
      ]
     },
     "execution_count": 306,
     "metadata": {},
     "output_type": "execute_result"
    }
   ],
   "source": [
    "len(data)"
   ]
  },
  {
   "cell_type": "code",
   "execution_count": 307,
   "metadata": {},
   "outputs": [
    {
     "data": {
      "text/html": [
       "<div>\n",
       "<style scoped>\n",
       "    .dataframe tbody tr th:only-of-type {\n",
       "        vertical-align: middle;\n",
       "    }\n",
       "\n",
       "    .dataframe tbody tr th {\n",
       "        vertical-align: top;\n",
       "    }\n",
       "\n",
       "    .dataframe thead th {\n",
       "        text-align: right;\n",
       "    }\n",
       "</style>\n",
       "<table border=\"1\" class=\"dataframe\">\n",
       "  <thead>\n",
       "    <tr style=\"text-align: right;\">\n",
       "      <th></th>\n",
       "      <th>Num</th>\n",
       "      <th>Name</th>\n",
       "      <th>Age</th>\n",
       "      <th>Gender</th>\n",
       "      <th>Ext</th>\n",
       "      <th>Audio_0</th>\n",
       "      <th>Audio_1</th>\n",
       "      <th>Audio_2</th>\n",
       "      <th>Audio_3</th>\n",
       "      <th>Audio_4</th>\n",
       "      <th>...</th>\n",
       "      <th>Audio_5520</th>\n",
       "      <th>Audio_5521</th>\n",
       "      <th>Audio_5522</th>\n",
       "      <th>Audio_5523</th>\n",
       "      <th>Audio_5524</th>\n",
       "      <th>Audio_5525</th>\n",
       "      <th>Audio_5526</th>\n",
       "      <th>Audio_5527</th>\n",
       "      <th>Audio_5528</th>\n",
       "      <th>Sr</th>\n",
       "    </tr>\n",
       "  </thead>\n",
       "  <tbody>\n",
       "    <tr>\n",
       "      <th>0</th>\n",
       "      <td>2</td>\n",
       "      <td>3</td>\n",
       "      <td>23</td>\n",
       "      <td>F</td>\n",
       "      <td>.wav</td>\n",
       "      <td>0.037744</td>\n",
       "      <td>0.042963</td>\n",
       "      <td>0.045602</td>\n",
       "      <td>0.048476</td>\n",
       "      <td>0.049683</td>\n",
       "      <td>...</td>\n",
       "      <td>-0.003041</td>\n",
       "      <td>0.006708</td>\n",
       "      <td>0.017953</td>\n",
       "      <td>0.017462</td>\n",
       "      <td>-0.002477</td>\n",
       "      <td>-0.020478</td>\n",
       "      <td>-0.015324</td>\n",
       "      <td>-0.008388</td>\n",
       "      <td>-0.000291</td>\n",
       "      <td>22050</td>\n",
       "    </tr>\n",
       "    <tr>\n",
       "      <th>1</th>\n",
       "      <td>2</td>\n",
       "      <td>3</td>\n",
       "      <td>23</td>\n",
       "      <td>F</td>\n",
       "      <td>.wav</td>\n",
       "      <td>0.009350</td>\n",
       "      <td>0.015799</td>\n",
       "      <td>0.005245</td>\n",
       "      <td>-0.014828</td>\n",
       "      <td>-0.019583</td>\n",
       "      <td>...</td>\n",
       "      <td>0.000911</td>\n",
       "      <td>0.000557</td>\n",
       "      <td>0.001369</td>\n",
       "      <td>0.001584</td>\n",
       "      <td>0.001286</td>\n",
       "      <td>0.000359</td>\n",
       "      <td>-0.000251</td>\n",
       "      <td>0.001169</td>\n",
       "      <td>-0.000582</td>\n",
       "      <td>22050</td>\n",
       "    </tr>\n",
       "    <tr>\n",
       "      <th>2</th>\n",
       "      <td>2</td>\n",
       "      <td>3</td>\n",
       "      <td>23</td>\n",
       "      <td>F</td>\n",
       "      <td>.wav</td>\n",
       "      <td>0.001462</td>\n",
       "      <td>0.002927</td>\n",
       "      <td>0.001584</td>\n",
       "      <td>0.001837</td>\n",
       "      <td>0.003543</td>\n",
       "      <td>...</td>\n",
       "      <td>0.000050</td>\n",
       "      <td>0.000428</td>\n",
       "      <td>0.000715</td>\n",
       "      <td>0.001001</td>\n",
       "      <td>0.000551</td>\n",
       "      <td>0.000111</td>\n",
       "      <td>-0.000679</td>\n",
       "      <td>-0.000291</td>\n",
       "      <td>0.000033</td>\n",
       "      <td>22050</td>\n",
       "    </tr>\n",
       "    <tr>\n",
       "      <th>3</th>\n",
       "      <td>2</td>\n",
       "      <td>3</td>\n",
       "      <td>23</td>\n",
       "      <td>F</td>\n",
       "      <td>.wav</td>\n",
       "      <td>0.000653</td>\n",
       "      <td>0.000990</td>\n",
       "      <td>0.000502</td>\n",
       "      <td>0.000289</td>\n",
       "      <td>0.000176</td>\n",
       "      <td>...</td>\n",
       "      <td>0.041023</td>\n",
       "      <td>0.039918</td>\n",
       "      <td>0.035112</td>\n",
       "      <td>0.024913</td>\n",
       "      <td>0.015266</td>\n",
       "      <td>0.004326</td>\n",
       "      <td>-0.006412</td>\n",
       "      <td>-0.009296</td>\n",
       "      <td>-0.008877</td>\n",
       "      <td>22050</td>\n",
       "    </tr>\n",
       "    <tr>\n",
       "      <th>4</th>\n",
       "      <td>2</td>\n",
       "      <td>3</td>\n",
       "      <td>23</td>\n",
       "      <td>F</td>\n",
       "      <td>.wav</td>\n",
       "      <td>-0.014228</td>\n",
       "      <td>-0.018208</td>\n",
       "      <td>-0.013448</td>\n",
       "      <td>-0.011329</td>\n",
       "      <td>-0.014752</td>\n",
       "      <td>...</td>\n",
       "      <td>-0.016211</td>\n",
       "      <td>-0.014956</td>\n",
       "      <td>-0.012936</td>\n",
       "      <td>-0.010687</td>\n",
       "      <td>-0.012107</td>\n",
       "      <td>-0.011594</td>\n",
       "      <td>-0.011450</td>\n",
       "      <td>-0.011019</td>\n",
       "      <td>-0.009027</td>\n",
       "      <td>22050</td>\n",
       "    </tr>\n",
       "  </tbody>\n",
       "</table>\n",
       "<p>5 rows × 5535 columns</p>\n",
       "</div>"
      ],
      "text/plain": [
       "  Num Name Age Gender   Ext   Audio_0   Audio_1   Audio_2   Audio_3   Audio_4  \\\n",
       "0   2    3  23      F  .wav  0.037744  0.042963  0.045602  0.048476  0.049683   \n",
       "1   2    3  23      F  .wav  0.009350  0.015799  0.005245 -0.014828 -0.019583   \n",
       "2   2    3  23      F  .wav  0.001462  0.002927  0.001584  0.001837  0.003543   \n",
       "3   2    3  23      F  .wav  0.000653  0.000990  0.000502  0.000289  0.000176   \n",
       "4   2    3  23      F  .wav -0.014228 -0.018208 -0.013448 -0.011329 -0.014752   \n",
       "\n",
       "   ...    Audio_5520  Audio_5521  Audio_5522  Audio_5523  Audio_5524  \\\n",
       "0  ...     -0.003041    0.006708    0.017953    0.017462   -0.002477   \n",
       "1  ...      0.000911    0.000557    0.001369    0.001584    0.001286   \n",
       "2  ...      0.000050    0.000428    0.000715    0.001001    0.000551   \n",
       "3  ...      0.041023    0.039918    0.035112    0.024913    0.015266   \n",
       "4  ...     -0.016211   -0.014956   -0.012936   -0.010687   -0.012107   \n",
       "\n",
       "   Audio_5525  Audio_5526  Audio_5527  Audio_5528     Sr  \n",
       "0   -0.020478   -0.015324   -0.008388   -0.000291  22050  \n",
       "1    0.000359   -0.000251    0.001169   -0.000582  22050  \n",
       "2    0.000111   -0.000679   -0.000291    0.000033  22050  \n",
       "3    0.004326   -0.006412   -0.009296   -0.008877  22050  \n",
       "4   -0.011594   -0.011450   -0.011019   -0.009027  22050  \n",
       "\n",
       "[5 rows x 5535 columns]"
      ]
     },
     "execution_count": 307,
     "metadata": {},
     "output_type": "execute_result"
    }
   ],
   "source": [
    "data_hayam = data[data['Num'] != '2']\n",
    "data_turtle = data[data['Num'] == '2']\n",
    "data_turtle.head()"
   ]
  },
  {
   "cell_type": "code",
   "execution_count": null,
   "metadata": {},
   "outputs": [],
   "source": []
  },
  {
   "cell_type": "code",
   "execution_count": 308,
   "metadata": {},
   "outputs": [],
   "source": [
    "train_ffts_hayam = []\n",
    "\n",
    "for i in range(data_hayam.shape[0]):\n",
    "    elem = data_hayam[audios].iloc[i].values\n",
    "    d = np.abs(librosa.stft(elem, n_fft=1024))\n",
    "    train_ffts_hayam.append(d)"
   ]
  },
  {
   "cell_type": "code",
   "execution_count": 310,
   "metadata": {},
   "outputs": [
    {
     "data": {
      "text/plain": [
       "(1100, 513, 22)"
      ]
     },
     "execution_count": 310,
     "metadata": {},
     "output_type": "execute_result"
    }
   ],
   "source": [
    "np.array(train_ffts_hayam).shape"
   ]
  },
  {
   "cell_type": "code",
   "execution_count": 383,
   "metadata": {},
   "outputs": [],
   "source": [
    "#shape = (1100,513,44)\n",
    "target = data.Name\n",
    "target_hayam = data_hayam.Name\n",
    "target_turtle = data_turtle.Name\n"
   ]
  },
  {
   "cell_type": "code",
   "execution_count": null,
   "metadata": {},
   "outputs": [],
   "source": [
    "train_ffts_hayam = np.array(train_ffts_hayam)\n",
    "train_ffts_hayam = train_ffts_hayam.reshape(data_hayam.shape[0],513,22,1)\n"
   ]
  },
  {
   "cell_type": "code",
   "execution_count": null,
   "metadata": {},
   "outputs": [],
   "source": [
    "X_train, X_test, y_train, y_test = train_test_split(train_ffts_hayam, target_hayam, test_size=0.1, shuffle=True)"
   ]
  },
  {
   "cell_type": "code",
   "execution_count": 384,
   "metadata": {},
   "outputs": [
    {
     "data": {
      "text/plain": [
       "(990, 513, 22, 1)"
      ]
     },
     "execution_count": 384,
     "metadata": {},
     "output_type": "execute_result"
    }
   ],
   "source": [
    "X_train.shape"
   ]
  },
  {
   "cell_type": "code",
   "execution_count": 385,
   "metadata": {},
   "outputs": [],
   "source": [
    "import tensorflow as tf\n",
    "import keras\n",
    "from keras.layers import Convolution2D, MaxPooling2D, Conv2D\n",
    "from keras.layers import Dense, Dropout, Activation, Flatten"
   ]
  },
  {
   "cell_type": "code",
   "execution_count": 386,
   "metadata": {},
   "outputs": [],
   "source": [
    "\n",
    "input_shape = (513,22,1)\n",
    "model = keras.models.Sequential()\n",
    "model.add(Conv2D(32, (3, 3), padding='same',input_shape=input_shape))\n",
    "model.add(Activation('tanh'))\n",
    "model.add(Conv2D(64, (3, 3)))\n",
    "model.add(Activation('relu'))\n",
    "model.add(MaxPooling2D(pool_size=(2, 2)))\n",
    "model.add(Dropout(0.25))\n",
    "\n",
    "model.add(Conv2D(64, (3, 3), padding='same'))\n",
    "model.add(Activation('relu'))\n",
    "model.add(Conv2D(64, (3, 3)))\n",
    "model.add(Activation('relu'))\n",
    "model.add(MaxPooling2D(pool_size=(3, 3)))\n",
    "model.add(Dropout(0.25))\n",
    "\n",
    "model.add(Flatten())\n",
    "model.add(Dense(512, activation=tf.nn.relu))\n",
    "model.add(Dropout(0.25))\n",
    "model.add(Dense(55,activation=tf.nn.softmax)) "
   ]
  },
  {
   "cell_type": "code",
   "execution_count": 387,
   "metadata": {},
   "outputs": [],
   "source": [
    "model.compile(optimizer='adam', loss='sparse_categorical_crossentropy', metrics=['accuracy']) "
   ]
  },
  {
   "cell_type": "code",
   "execution_count": 388,
   "metadata": {},
   "outputs": [
    {
     "name": "stdout",
     "output_type": "stream",
     "text": [
      "Epoch 1/20\n",
      "990/990 [==============================] - 47s 47ms/step - loss: 3.9454 - acc: 0.0323\n",
      "Epoch 2/20\n",
      "990/990 [==============================] - 43s 43ms/step - loss: 3.5302 - acc: 0.1232\n",
      "Epoch 3/20\n",
      "990/990 [==============================] - 43s 43ms/step - loss: 2.7425 - acc: 0.2687\n",
      "Epoch 4/20\n",
      "990/990 [==============================] - 43s 43ms/step - loss: 1.9539 - acc: 0.4626\n",
      "Epoch 5/20\n",
      "990/990 [==============================] - 43s 43ms/step - loss: 1.3135 - acc: 0.6253\n",
      "Epoch 6/20\n",
      "990/990 [==============================] - 43s 44ms/step - loss: 0.8854 - acc: 0.7455\n",
      "Epoch 7/20\n",
      "990/990 [==============================] - 43s 43ms/step - loss: 0.5572 - acc: 0.8394\n",
      "Epoch 8/20\n",
      "990/990 [==============================] - 43s 43ms/step - loss: 0.5316 - acc: 0.8545\n",
      "Epoch 9/20\n",
      "990/990 [==============================] - 43s 43ms/step - loss: 0.3649 - acc: 0.8838\n",
      "Epoch 10/20\n",
      "990/990 [==============================] - 44s 44ms/step - loss: 0.2743 - acc: 0.9172\n",
      "Epoch 11/20\n",
      "990/990 [==============================] - 43s 44ms/step - loss: 0.3192 - acc: 0.9152\n",
      "Epoch 12/20\n",
      "990/990 [==============================] - 44s 44ms/step - loss: 0.2607 - acc: 0.9364\n",
      "Epoch 13/20\n",
      "990/990 [==============================] - 44s 44ms/step - loss: 0.1482 - acc: 0.9545\n",
      "Epoch 14/20\n",
      "990/990 [==============================] - 43s 44ms/step - loss: 0.2428 - acc: 0.9414\n",
      "Epoch 15/20\n",
      "130/990 [==>...........................] - ETA: 38s - loss: 0.0716 - acc: 0.9846"
     ]
    },
    {
     "ename": "KeyboardInterrupt",
     "evalue": "",
     "output_type": "error",
     "traceback": [
      "\u001b[0;31m---------------------------------------------------------------------------\u001b[0m",
      "\u001b[0;31mKeyboardInterrupt\u001b[0m                         Traceback (most recent call last)",
      "\u001b[0;32m<ipython-input-388-8863236e0ae1>\u001b[0m in \u001b[0;36m<module>\u001b[0;34m()\u001b[0m\n\u001b[0;32m----> 1\u001b[0;31m \u001b[0mmodel\u001b[0m\u001b[0;34m.\u001b[0m\u001b[0mfit\u001b[0m\u001b[0;34m(\u001b[0m\u001b[0mx\u001b[0m\u001b[0;34m=\u001b[0m\u001b[0mX_train\u001b[0m\u001b[0;34m,\u001b[0m\u001b[0my\u001b[0m\u001b[0;34m=\u001b[0m\u001b[0my_train\u001b[0m\u001b[0;34m,\u001b[0m \u001b[0mepochs\u001b[0m\u001b[0;34m=\u001b[0m\u001b[0;36m20\u001b[0m\u001b[0;34m,\u001b[0m \u001b[0mbatch_size\u001b[0m\u001b[0;34m=\u001b[0m\u001b[0;36m10\u001b[0m\u001b[0;34m)\u001b[0m\u001b[0;34m\u001b[0m\u001b[0m\n\u001b[0m",
      "\u001b[0;32m/Library/Frameworks/Python.framework/Versions/3.6/lib/python3.6/site-packages/keras/models.py\u001b[0m in \u001b[0;36mfit\u001b[0;34m(self, x, y, batch_size, epochs, verbose, callbacks, validation_split, validation_data, shuffle, class_weight, sample_weight, initial_epoch, steps_per_epoch, validation_steps, **kwargs)\u001b[0m\n\u001b[1;32m    961\u001b[0m                               \u001b[0minitial_epoch\u001b[0m\u001b[0;34m=\u001b[0m\u001b[0minitial_epoch\u001b[0m\u001b[0;34m,\u001b[0m\u001b[0;34m\u001b[0m\u001b[0m\n\u001b[1;32m    962\u001b[0m                               \u001b[0msteps_per_epoch\u001b[0m\u001b[0;34m=\u001b[0m\u001b[0msteps_per_epoch\u001b[0m\u001b[0;34m,\u001b[0m\u001b[0;34m\u001b[0m\u001b[0m\n\u001b[0;32m--> 963\u001b[0;31m                               validation_steps=validation_steps)\n\u001b[0m\u001b[1;32m    964\u001b[0m \u001b[0;34m\u001b[0m\u001b[0m\n\u001b[1;32m    965\u001b[0m     def evaluate(self, x=None, y=None,\n",
      "\u001b[0;32m/Library/Frameworks/Python.framework/Versions/3.6/lib/python3.6/site-packages/keras/engine/training.py\u001b[0m in \u001b[0;36mfit\u001b[0;34m(self, x, y, batch_size, epochs, verbose, callbacks, validation_split, validation_data, shuffle, class_weight, sample_weight, initial_epoch, steps_per_epoch, validation_steps, **kwargs)\u001b[0m\n\u001b[1;32m   1703\u001b[0m                               \u001b[0minitial_epoch\u001b[0m\u001b[0;34m=\u001b[0m\u001b[0minitial_epoch\u001b[0m\u001b[0;34m,\u001b[0m\u001b[0;34m\u001b[0m\u001b[0m\n\u001b[1;32m   1704\u001b[0m                               \u001b[0msteps_per_epoch\u001b[0m\u001b[0;34m=\u001b[0m\u001b[0msteps_per_epoch\u001b[0m\u001b[0;34m,\u001b[0m\u001b[0;34m\u001b[0m\u001b[0m\n\u001b[0;32m-> 1705\u001b[0;31m                               validation_steps=validation_steps)\n\u001b[0m\u001b[1;32m   1706\u001b[0m \u001b[0;34m\u001b[0m\u001b[0m\n\u001b[1;32m   1707\u001b[0m     def evaluate(self, x=None, y=None,\n",
      "\u001b[0;32m/Library/Frameworks/Python.framework/Versions/3.6/lib/python3.6/site-packages/keras/engine/training.py\u001b[0m in \u001b[0;36m_fit_loop\u001b[0;34m(self, f, ins, out_labels, batch_size, epochs, verbose, callbacks, val_f, val_ins, shuffle, callback_metrics, initial_epoch, steps_per_epoch, validation_steps)\u001b[0m\n\u001b[1;32m   1233\u001b[0m                         \u001b[0mins_batch\u001b[0m\u001b[0;34m[\u001b[0m\u001b[0mi\u001b[0m\u001b[0;34m]\u001b[0m \u001b[0;34m=\u001b[0m \u001b[0mins_batch\u001b[0m\u001b[0;34m[\u001b[0m\u001b[0mi\u001b[0m\u001b[0;34m]\u001b[0m\u001b[0;34m.\u001b[0m\u001b[0mtoarray\u001b[0m\u001b[0;34m(\u001b[0m\u001b[0;34m)\u001b[0m\u001b[0;34m\u001b[0m\u001b[0m\n\u001b[1;32m   1234\u001b[0m \u001b[0;34m\u001b[0m\u001b[0m\n\u001b[0;32m-> 1235\u001b[0;31m                     \u001b[0mouts\u001b[0m \u001b[0;34m=\u001b[0m \u001b[0mf\u001b[0m\u001b[0;34m(\u001b[0m\u001b[0mins_batch\u001b[0m\u001b[0;34m)\u001b[0m\u001b[0;34m\u001b[0m\u001b[0m\n\u001b[0m\u001b[1;32m   1236\u001b[0m                     \u001b[0;32mif\u001b[0m \u001b[0;32mnot\u001b[0m \u001b[0misinstance\u001b[0m\u001b[0;34m(\u001b[0m\u001b[0mouts\u001b[0m\u001b[0;34m,\u001b[0m \u001b[0mlist\u001b[0m\u001b[0;34m)\u001b[0m\u001b[0;34m:\u001b[0m\u001b[0;34m\u001b[0m\u001b[0m\n\u001b[1;32m   1237\u001b[0m                         \u001b[0mouts\u001b[0m \u001b[0;34m=\u001b[0m \u001b[0;34m[\u001b[0m\u001b[0mouts\u001b[0m\u001b[0;34m]\u001b[0m\u001b[0;34m\u001b[0m\u001b[0m\n",
      "\u001b[0;32m/Library/Frameworks/Python.framework/Versions/3.6/lib/python3.6/site-packages/keras/backend/tensorflow_backend.py\u001b[0m in \u001b[0;36m__call__\u001b[0;34m(self, inputs)\u001b[0m\n\u001b[1;32m   2476\u001b[0m         \u001b[0msession\u001b[0m \u001b[0;34m=\u001b[0m \u001b[0mget_session\u001b[0m\u001b[0;34m(\u001b[0m\u001b[0;34m)\u001b[0m\u001b[0;34m\u001b[0m\u001b[0m\n\u001b[1;32m   2477\u001b[0m         updated = session.run(fetches=fetches, feed_dict=feed_dict,\n\u001b[0;32m-> 2478\u001b[0;31m                               **self.session_kwargs)\n\u001b[0m\u001b[1;32m   2479\u001b[0m         \u001b[0;32mreturn\u001b[0m \u001b[0mupdated\u001b[0m\u001b[0;34m[\u001b[0m\u001b[0;34m:\u001b[0m\u001b[0mlen\u001b[0m\u001b[0;34m(\u001b[0m\u001b[0mself\u001b[0m\u001b[0;34m.\u001b[0m\u001b[0moutputs\u001b[0m\u001b[0;34m)\u001b[0m\u001b[0;34m]\u001b[0m\u001b[0;34m\u001b[0m\u001b[0m\n\u001b[1;32m   2480\u001b[0m \u001b[0;34m\u001b[0m\u001b[0m\n",
      "\u001b[0;32m/Library/Frameworks/Python.framework/Versions/3.6/lib/python3.6/site-packages/tensorflow/python/client/session.py\u001b[0m in \u001b[0;36mrun\u001b[0;34m(self, fetches, feed_dict, options, run_metadata)\u001b[0m\n\u001b[1;32m    927\u001b[0m     \u001b[0;32mtry\u001b[0m\u001b[0;34m:\u001b[0m\u001b[0;34m\u001b[0m\u001b[0m\n\u001b[1;32m    928\u001b[0m       result = self._run(None, fetches, feed_dict, options_ptr,\n\u001b[0;32m--> 929\u001b[0;31m                          run_metadata_ptr)\n\u001b[0m\u001b[1;32m    930\u001b[0m       \u001b[0;32mif\u001b[0m \u001b[0mrun_metadata\u001b[0m\u001b[0;34m:\u001b[0m\u001b[0;34m\u001b[0m\u001b[0m\n\u001b[1;32m    931\u001b[0m         \u001b[0mproto_data\u001b[0m \u001b[0;34m=\u001b[0m \u001b[0mtf_session\u001b[0m\u001b[0;34m.\u001b[0m\u001b[0mTF_GetBuffer\u001b[0m\u001b[0;34m(\u001b[0m\u001b[0mrun_metadata_ptr\u001b[0m\u001b[0;34m)\u001b[0m\u001b[0;34m\u001b[0m\u001b[0m\n",
      "\u001b[0;32m/Library/Frameworks/Python.framework/Versions/3.6/lib/python3.6/site-packages/tensorflow/python/client/session.py\u001b[0m in \u001b[0;36m_run\u001b[0;34m(self, handle, fetches, feed_dict, options, run_metadata)\u001b[0m\n\u001b[1;32m   1150\u001b[0m     \u001b[0;32mif\u001b[0m \u001b[0mfinal_fetches\u001b[0m \u001b[0;32mor\u001b[0m \u001b[0mfinal_targets\u001b[0m \u001b[0;32mor\u001b[0m \u001b[0;34m(\u001b[0m\u001b[0mhandle\u001b[0m \u001b[0;32mand\u001b[0m \u001b[0mfeed_dict_tensor\u001b[0m\u001b[0;34m)\u001b[0m\u001b[0;34m:\u001b[0m\u001b[0;34m\u001b[0m\u001b[0m\n\u001b[1;32m   1151\u001b[0m       results = self._do_run(handle, final_targets, final_fetches,\n\u001b[0;32m-> 1152\u001b[0;31m                              feed_dict_tensor, options, run_metadata)\n\u001b[0m\u001b[1;32m   1153\u001b[0m     \u001b[0;32melse\u001b[0m\u001b[0;34m:\u001b[0m\u001b[0;34m\u001b[0m\u001b[0m\n\u001b[1;32m   1154\u001b[0m       \u001b[0mresults\u001b[0m \u001b[0;34m=\u001b[0m \u001b[0;34m[\u001b[0m\u001b[0;34m]\u001b[0m\u001b[0;34m\u001b[0m\u001b[0m\n",
      "\u001b[0;32m/Library/Frameworks/Python.framework/Versions/3.6/lib/python3.6/site-packages/tensorflow/python/client/session.py\u001b[0m in \u001b[0;36m_do_run\u001b[0;34m(self, handle, target_list, fetch_list, feed_dict, options, run_metadata)\u001b[0m\n\u001b[1;32m   1326\u001b[0m     \u001b[0;32mif\u001b[0m \u001b[0mhandle\u001b[0m \u001b[0;32mis\u001b[0m \u001b[0;32mNone\u001b[0m\u001b[0;34m:\u001b[0m\u001b[0;34m\u001b[0m\u001b[0m\n\u001b[1;32m   1327\u001b[0m       return self._do_call(_run_fn, feeds, fetches, targets, options,\n\u001b[0;32m-> 1328\u001b[0;31m                            run_metadata)\n\u001b[0m\u001b[1;32m   1329\u001b[0m     \u001b[0;32melse\u001b[0m\u001b[0;34m:\u001b[0m\u001b[0;34m\u001b[0m\u001b[0m\n\u001b[1;32m   1330\u001b[0m       \u001b[0;32mreturn\u001b[0m \u001b[0mself\u001b[0m\u001b[0;34m.\u001b[0m\u001b[0m_do_call\u001b[0m\u001b[0;34m(\u001b[0m\u001b[0m_prun_fn\u001b[0m\u001b[0;34m,\u001b[0m \u001b[0mhandle\u001b[0m\u001b[0;34m,\u001b[0m \u001b[0mfeeds\u001b[0m\u001b[0;34m,\u001b[0m \u001b[0mfetches\u001b[0m\u001b[0;34m)\u001b[0m\u001b[0;34m\u001b[0m\u001b[0m\n",
      "\u001b[0;32m/Library/Frameworks/Python.framework/Versions/3.6/lib/python3.6/site-packages/tensorflow/python/client/session.py\u001b[0m in \u001b[0;36m_do_call\u001b[0;34m(self, fn, *args)\u001b[0m\n\u001b[1;32m   1332\u001b[0m   \u001b[0;32mdef\u001b[0m \u001b[0m_do_call\u001b[0m\u001b[0;34m(\u001b[0m\u001b[0mself\u001b[0m\u001b[0;34m,\u001b[0m \u001b[0mfn\u001b[0m\u001b[0;34m,\u001b[0m \u001b[0;34m*\u001b[0m\u001b[0margs\u001b[0m\u001b[0;34m)\u001b[0m\u001b[0;34m:\u001b[0m\u001b[0;34m\u001b[0m\u001b[0m\n\u001b[1;32m   1333\u001b[0m     \u001b[0;32mtry\u001b[0m\u001b[0;34m:\u001b[0m\u001b[0;34m\u001b[0m\u001b[0m\n\u001b[0;32m-> 1334\u001b[0;31m       \u001b[0;32mreturn\u001b[0m \u001b[0mfn\u001b[0m\u001b[0;34m(\u001b[0m\u001b[0;34m*\u001b[0m\u001b[0margs\u001b[0m\u001b[0;34m)\u001b[0m\u001b[0;34m\u001b[0m\u001b[0m\n\u001b[0m\u001b[1;32m   1335\u001b[0m     \u001b[0;32mexcept\u001b[0m \u001b[0merrors\u001b[0m\u001b[0;34m.\u001b[0m\u001b[0mOpError\u001b[0m \u001b[0;32mas\u001b[0m \u001b[0me\u001b[0m\u001b[0;34m:\u001b[0m\u001b[0;34m\u001b[0m\u001b[0m\n\u001b[1;32m   1336\u001b[0m       \u001b[0mmessage\u001b[0m \u001b[0;34m=\u001b[0m \u001b[0mcompat\u001b[0m\u001b[0;34m.\u001b[0m\u001b[0mas_text\u001b[0m\u001b[0;34m(\u001b[0m\u001b[0me\u001b[0m\u001b[0;34m.\u001b[0m\u001b[0mmessage\u001b[0m\u001b[0;34m)\u001b[0m\u001b[0;34m\u001b[0m\u001b[0m\n",
      "\u001b[0;32m/Library/Frameworks/Python.framework/Versions/3.6/lib/python3.6/site-packages/tensorflow/python/client/session.py\u001b[0m in \u001b[0;36m_run_fn\u001b[0;34m(feed_dict, fetch_list, target_list, options, run_metadata)\u001b[0m\n\u001b[1;32m   1317\u001b[0m       \u001b[0mself\u001b[0m\u001b[0;34m.\u001b[0m\u001b[0m_extend_graph\u001b[0m\u001b[0;34m(\u001b[0m\u001b[0;34m)\u001b[0m\u001b[0;34m\u001b[0m\u001b[0m\n\u001b[1;32m   1318\u001b[0m       return self._call_tf_sessionrun(\n\u001b[0;32m-> 1319\u001b[0;31m           options, feed_dict, fetch_list, target_list, run_metadata)\n\u001b[0m\u001b[1;32m   1320\u001b[0m \u001b[0;34m\u001b[0m\u001b[0m\n\u001b[1;32m   1321\u001b[0m     \u001b[0;32mdef\u001b[0m \u001b[0m_prun_fn\u001b[0m\u001b[0;34m(\u001b[0m\u001b[0mhandle\u001b[0m\u001b[0;34m,\u001b[0m \u001b[0mfeed_dict\u001b[0m\u001b[0;34m,\u001b[0m \u001b[0mfetch_list\u001b[0m\u001b[0;34m)\u001b[0m\u001b[0;34m:\u001b[0m\u001b[0;34m\u001b[0m\u001b[0m\n",
      "\u001b[0;32m/Library/Frameworks/Python.framework/Versions/3.6/lib/python3.6/site-packages/tensorflow/python/client/session.py\u001b[0m in \u001b[0;36m_call_tf_sessionrun\u001b[0;34m(self, options, feed_dict, fetch_list, target_list, run_metadata)\u001b[0m\n\u001b[1;32m   1405\u001b[0m     return tf_session.TF_SessionRun_wrapper(\n\u001b[1;32m   1406\u001b[0m         \u001b[0mself\u001b[0m\u001b[0;34m.\u001b[0m\u001b[0m_session\u001b[0m\u001b[0;34m,\u001b[0m \u001b[0moptions\u001b[0m\u001b[0;34m,\u001b[0m \u001b[0mfeed_dict\u001b[0m\u001b[0;34m,\u001b[0m \u001b[0mfetch_list\u001b[0m\u001b[0;34m,\u001b[0m \u001b[0mtarget_list\u001b[0m\u001b[0;34m,\u001b[0m\u001b[0;34m\u001b[0m\u001b[0m\n\u001b[0;32m-> 1407\u001b[0;31m         run_metadata)\n\u001b[0m\u001b[1;32m   1408\u001b[0m \u001b[0;34m\u001b[0m\u001b[0m\n\u001b[1;32m   1409\u001b[0m   \u001b[0;32mdef\u001b[0m \u001b[0m_call_tf_sessionprun\u001b[0m\u001b[0;34m(\u001b[0m\u001b[0mself\u001b[0m\u001b[0;34m,\u001b[0m \u001b[0mhandle\u001b[0m\u001b[0;34m,\u001b[0m \u001b[0mfeed_dict\u001b[0m\u001b[0;34m,\u001b[0m \u001b[0mfetch_list\u001b[0m\u001b[0;34m)\u001b[0m\u001b[0;34m:\u001b[0m\u001b[0;34m\u001b[0m\u001b[0m\n",
      "\u001b[0;31mKeyboardInterrupt\u001b[0m: "
     ]
    }
   ],
   "source": [
    "model.fit(x=X_train,y=y_train, epochs=20, batch_size=10) "
   ]
  },
  {
   "cell_type": "code",
   "execution_count": 389,
   "metadata": {},
   "outputs": [],
   "source": [
    "pred = model.predict(X_test)\n",
    "prediction = []\n",
    "for string in pred:\n",
    "    a = np.argmax(string)\n",
    "    prediction.append(a)\n",
    "#print(prediction)"
   ]
  },
  {
   "cell_type": "code",
   "execution_count": 390,
   "metadata": {},
   "outputs": [],
   "source": [
    "#print(y_test)"
   ]
  },
  {
   "cell_type": "code",
   "execution_count": 391,
   "metadata": {},
   "outputs": [
    {
     "name": "stdout",
     "output_type": "stream",
     "text": [
      "0.4818181818181818\n"
     ]
    }
   ],
   "source": [
    "#loss with fft\n",
    "print(accuracy_score(prediction, y_test))"
   ]
  },
  {
   "cell_type": "code",
   "execution_count": 238,
   "metadata": {},
   "outputs": [
    {
     "name": "stdout",
     "output_type": "stream",
     "text": [
      "0 out of 2200 (1)\n",
      "100 out of 2200 (1)\n",
      "200 out of 2200 (1)\n",
      "300 out of 2200 (1)\n",
      "400 out of 2200 (1)\n",
      "500 out of 2200 (1)\n",
      "600 out of 2200 (1)\n",
      "700 out of 2200 (1)\n",
      "800 out of 2200 (1)\n",
      "900 out of 2200 (1)\n",
      "1000 out of 2200 (1)\n",
      "1100 out of 2200 (1)\n",
      "1200 out of 2200 (1)\n",
      "1300 out of 2200 (1)\n",
      "1400 out of 2200 (1)\n",
      "1500 out of 2200 (1)\n",
      "1600 out of 2200 (1)\n",
      "1700 out of 2200 (1)\n",
      "1800 out of 2200 (1)\n",
      "1900 out of 2200 (1)\n",
      "2000 out of 2200 (1)\n",
      "2100 out of 2200 (1)\n"
     ]
    }
   ],
   "source": [
    "list_of_mfccs = []\n",
    "for i in range(len(data)):\n",
    "    mfcc = librosa.feature.mfcc(data[audios].iloc[i].values, data.Sr.iloc[i])\n",
    "    mfcc = np.array(mfcc)\n",
    "    list_of_mfccs.append(mfcc)\n",
    "    if i % 100 == 0:\n",
    "        print('{} out of {} (1)'.format(i, len(data)))\n",
    "    \n",
    "#list_of_mfccs = np.array(list_of_mfccs)\n",
    "#mfcc_names = ['mfcc_{}'.format(i) for i in range(list_of_mfccs.shape[1])]\n",
    "#for i in range(list_of_mfccs.shape[1]):\n",
    "#    data['mfcc_{}'.format(i)] = list_of_mfccs[:, i]"
   ]
  },
  {
   "cell_type": "code",
   "execution_count": 239,
   "metadata": {},
   "outputs": [
    {
     "data": {
      "text/plain": [
       "(2200, 20, 11)"
      ]
     },
     "execution_count": 239,
     "metadata": {},
     "output_type": "execute_result"
    }
   ],
   "source": [
    "train_mfccs = np.array(list_of_mfccs)\n",
    "train_mfccs.shape"
   ]
  },
  {
   "cell_type": "code",
   "execution_count": 392,
   "metadata": {},
   "outputs": [],
   "source": [
    "train_mfccs = train_mfccs.reshape(2200,20,11,1)\n",
    "X_train, X_test, y_train, y_test = train_test_split(train_mfccs, target, test_size=0.1, shuffle=True)"
   ]
  },
  {
   "cell_type": "code",
   "execution_count": 431,
   "metadata": {},
   "outputs": [],
   "source": [
    "input_shape = (20,11,1)\n",
    "model = keras.models.Sequential()\n",
    "model.add(Conv2D(16, (2, 2), padding='same',input_shape=input_shape))\n",
    "model.add(Activation('relu'))\n",
    "model.add(Conv2D(32, (2, 2)))\n",
    "model.add(Activation('relu'))\n",
    "model.add(MaxPooling2D(pool_size=(2, 2)))\n",
    "\n",
    "model.add(Dropout(0.25))\n",
    "#model.add(Dropout(0.25))\n",
    "#model.add(Conv2D(32, (2, 2)))\n",
    "#model.add(Activation('relu'))\n",
    "#model.add(Conv2D(32, (2, 2)))\n",
    "#model.add(Activation('relu'))\n",
    "#model.add(MaxPooling2D(pool_size=(2, 2)))\n",
    "#model.add(Dropout(0.25))\n",
    "model.add(Flatten())\n",
    "#model.add(Dense(256, activation=tf.nn.relu))\n",
    "#model.add(Dropout(0.5))\n",
    "model.add(Dense(55,activation=tf.nn.softmax)) "
   ]
  },
  {
   "cell_type": "code",
   "execution_count": 432,
   "metadata": {},
   "outputs": [],
   "source": [
    "model.compile(optimizer='adam', loss='sparse_categorical_crossentropy', metrics=['accuracy']) "
   ]
  },
  {
   "cell_type": "code",
   "execution_count": 433,
   "metadata": {},
   "outputs": [
    {
     "name": "stdout",
     "output_type": "stream",
     "text": [
      "Epoch 1/20\n",
      "1980/1980 [==============================] - 4s 2ms/step - loss: 7.7776 - acc: 0.0611\n",
      "Epoch 2/20\n",
      "1980/1980 [==============================] - 1s 324us/step - loss: 2.4604 - acc: 0.3389\n",
      "Epoch 3/20\n",
      "1980/1980 [==============================] - 1s 325us/step - loss: 1.3619 - acc: 0.6152\n",
      "Epoch 4/20\n",
      "1980/1980 [==============================] - 1s 325us/step - loss: 0.9005 - acc: 0.7359\n",
      "Epoch 5/20\n",
      "1980/1980 [==============================] - 1s 325us/step - loss: 0.6058 - acc: 0.8111\n",
      "Epoch 6/20\n",
      "1980/1980 [==============================] - 1s 326us/step - loss: 0.4263 - acc: 0.8677\n",
      "Epoch 7/20\n",
      "1980/1980 [==============================] - 1s 324us/step - loss: 0.3391 - acc: 0.8970\n",
      "Epoch 8/20\n",
      "1980/1980 [==============================] - 1s 329us/step - loss: 0.2523 - acc: 0.9288\n",
      "Epoch 9/20\n",
      "1980/1980 [==============================] - 1s 327us/step - loss: 0.1889 - acc: 0.9485\n",
      "Epoch 10/20\n",
      "1980/1980 [==============================] - 1s 324us/step - loss: 0.1499 - acc: 0.9601\n",
      "Epoch 11/20\n",
      "1980/1980 [==============================] - 1s 324us/step - loss: 0.1362 - acc: 0.9626\n",
      "Epoch 12/20\n",
      "1980/1980 [==============================] - 1s 326us/step - loss: 0.1108 - acc: 0.9707\n",
      "Epoch 13/20\n",
      "1980/1980 [==============================] - 1s 328us/step - loss: 0.0912 - acc: 0.9742\n",
      "Epoch 14/20\n",
      "1980/1980 [==============================] - 1s 325us/step - loss: 0.0685 - acc: 0.9823\n",
      "Epoch 15/20\n",
      "1980/1980 [==============================] - 1s 325us/step - loss: 0.0517 - acc: 0.9914\n",
      "Epoch 16/20\n",
      "1980/1980 [==============================] - 1s 326us/step - loss: 0.0610 - acc: 0.9833\n",
      "Epoch 17/20\n",
      "1980/1980 [==============================] - 1s 336us/step - loss: 0.0488 - acc: 0.9879\n",
      "Epoch 18/20\n",
      "1980/1980 [==============================] - 1s 328us/step - loss: 0.0639 - acc: 0.9818\n",
      "Epoch 19/20\n",
      "1980/1980 [==============================] - 1s 348us/step - loss: 0.0618 - acc: 0.9838\n",
      "Epoch 20/20\n",
      "1980/1980 [==============================] - 1s 339us/step - loss: 0.0496 - acc: 0.9859\n"
     ]
    },
    {
     "data": {
      "text/plain": [
       "<keras.callbacks.History at 0x23a4f29e8>"
      ]
     },
     "execution_count": 433,
     "metadata": {},
     "output_type": "execute_result"
    }
   ],
   "source": [
    "model.fit(x=X_train,y=y_train, epochs=20, batch_size=20)"
   ]
  },
  {
   "cell_type": "code",
   "execution_count": 434,
   "metadata": {},
   "outputs": [
    {
     "name": "stdout",
     "output_type": "stream",
     "text": [
      "0.6090909090909091\n"
     ]
    }
   ],
   "source": [
    "#loss with mfccs\n",
    "pred = model.predict(X_test)\n",
    "prediction = []\n",
    "for string in pred:\n",
    "    a = np.argmax(string)\n",
    "    prediction.append(a)\n",
    "print(accuracy_score(prediction, y_test))"
   ]
  },
  {
   "cell_type": "code",
   "execution_count": null,
   "metadata": {},
   "outputs": [],
   "source": []
  },
  {
   "cell_type": "code",
   "execution_count": null,
   "metadata": {},
   "outputs": [],
   "source": []
  }
 ],
 "metadata": {
  "kernelspec": {
   "display_name": "Python 3",
   "language": "python",
   "name": "python3"
  },
  "language_info": {
   "codemirror_mode": {
    "name": "ipython",
    "version": 3
   },
   "file_extension": ".py",
   "mimetype": "text/x-python",
   "name": "python",
   "nbconvert_exporter": "python",
   "pygments_lexer": "ipython3",
   "version": "3.6.4"
  }
 },
 "nbformat": 4,
 "nbformat_minor": 2
}
